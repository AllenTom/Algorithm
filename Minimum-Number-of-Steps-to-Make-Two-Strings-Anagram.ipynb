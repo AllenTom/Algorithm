{
 "metadata": {
  "language_info": {
   "codemirror_mode": {
    "name": "ipython",
    "version": 3
   },
   "file_extension": ".py",
   "mimetype": "text/x-python",
   "name": "python",
   "nbconvert_exporter": "python",
   "pygments_lexer": "ipython3",
   "version": "3.8.1-final"
  },
  "orig_nbformat": 2,
  "kernelspec": {
   "name": "python38164bited0cfbe7c3504f05a4d155e3328c3124",
   "display_name": "Python 3.8.1 64-bit"
  }
 },
 "nbformat": 4,
 "nbformat_minor": 2,
 "cells": [
  {
   "cell_type": "markdown",
   "metadata": {},
   "source": [
    "# Minimum Number of Steps to Make Two Strings Anagram\n",
    "\n",
    "Given two equal-size strings s and t. In one step you can choose any character of t and replace it with another character.\n",
    "\n",
    "Return the minimum number of steps to make t an anagram of s.\n",
    "\n",
    "An Anagram of a string is a string that contains the same characters with a different (or the same) ordering."
   ]
  },
  {
   "cell_type": "markdown",
   "metadata": {},
   "source": [
    "## 解析\n",
    "\n",
    "题目来源:[LeetCode - Minimum Number of Steps to Make Two Strings Anagram - 1347](https://leetcode.com/problems/minimum-number-of-steps-to-make-two-strings-anagram/)\n",
    "\n",
    "比较简单，思路为目标字符串去除S与T的交集，计算长度即可"
   ]
  },
  {
   "cell_type": "code",
   "execution_count": null,
   "metadata": {},
   "outputs": [],
   "source": [
    "def minSteps(s, t): \n",
    "    for c in s:\n",
    "        t = t.replace(c,\"\",1)\n",
    "    \n",
    "    return len(t)"
   ]
  },
  {
   "cell_type": "code",
   "execution_count": null,
   "metadata": {
    "tags": []
   },
   "outputs": [],
   "source": [
    "print(minSteps(\"leetcode\",\"practice\"))"
   ]
  }
 ]
}