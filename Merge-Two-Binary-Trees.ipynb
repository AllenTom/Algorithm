{
 "metadata": {
  "language_info": {
   "codemirror_mode": {
    "name": "ipython",
    "version": 3
   },
   "file_extension": ".py",
   "mimetype": "text/x-python",
   "name": "python",
   "nbconvert_exporter": "python",
   "pygments_lexer": "ipython3",
   "version": "3.8.1-final"
  },
  "orig_nbformat": 2,
  "kernelspec": {
   "name": "python38164bited0cfbe7c3504f05a4d155e3328c3124",
   "display_name": "Python 3.8.1 64-bit"
  }
 },
 "nbformat": 4,
 "nbformat_minor": 2,
 "cells": [
  {
   "cell_type": "markdown",
   "metadata": {},
   "source": [
    "# Merge Two Binary Trees\n",
    "\n",
    "Given two binary trees and imagine that when you put one of them to cover the other, some nodes of the two trees are overlapped while the others are not.\n",
    "\n",
    "You need to merge them into a new binary tree. The merge rule is that if two nodes overlap, then sum node values up as the new value of the merged node. Otherwise, the NOT null node will be used as the node of new tree.\n"
   ]
  },
  {
   "cell_type": "markdown",
   "metadata": {},
   "source": [
    "## 解析\n",
    "\n",
    "题目来源:[LeetCode - Merge Two Binary Trees - 617](https://leetcode.com/problems/merge-two-binary-trees/)\n",
    "\n",
    "简单的二叉树遍历，这里因为有两个二叉树，所以递归的边界稍有改变，前中后序遍历都可以。过程中分情况讨论"
   ]
  },
  {
   "cell_type": "code",
   "execution_count": null,
   "metadata": {},
   "outputs": [],
   "source": [
    "class TreeNode:\n",
    "    def __init__(self, val=0, left=None, right=None):\n",
    "        self.val = val\n",
    "        self.left = left\n",
    "        self.right = right"
   ]
  },
  {
   "cell_type": "code",
   "execution_count": null,
   "metadata": {},
   "outputs": [],
   "source": [
    "def createtree(l):\n",
    "    if l[0]:\n",
    "        root=TreeNode(l[0])\n",
    "        nodes=[root]\n",
    "        id=1\n",
    "        while nodes and id<len(l):\n",
    "            node=nodes[0]\n",
    "            node.left=TreeNode(l[id]) if l[id] else None\n",
    "            nodes.append(node.left)\n",
    "            node.right=TreeNode(l[id+1]) if id<len(l)-1 and l[id+1] else None\n",
    "            nodes.append(node.right)\n",
    "            id+=2\n",
    "            nodes.pop(0)\n",
    "        return root\n",
    "    else:\n",
    "        return None"
   ]
  },
  {
   "cell_type": "code",
   "execution_count": null,
   "metadata": {},
   "outputs": [],
   "source": [
    "def preOrder(node): \n",
    "    if not node: \n",
    "        return      \n",
    "    print(node.val)\n",
    "    preOrder(node.left) \n",
    "    preOrder(node.right) "
   ]
  },
  {
   "cell_type": "code",
   "execution_count": null,
   "metadata": {},
   "outputs": [],
   "source": [
    "def mergeTrees(t1, t2):\n",
    "        node = None\n",
    "        if t1 is not None and t2 is not None:\n",
    "            node = TreeNode(t1.val + t2.val)\n",
    "            node.left = mergeTrees(t1.left,t2.left)\n",
    "            node.right = mergeTrees(t1.right,t2.right)\n",
    "        if t1 is None and t2 is not None:\n",
    "            node = TreeNode(t2.val)\n",
    "            node.left = mergeTrees(None,t2.left)\n",
    "            node.right = mergeTrees(None,t2.right)\n",
    "        if t1 is not None and t2 is None:\n",
    "            node = TreeNode(t1.val)\n",
    "            node.left = mergeTrees(t1.left,None)\n",
    "            node.right = mergeTrees(t1.right,None)\n",
    "        return node"
   ]
  }
 ]
}