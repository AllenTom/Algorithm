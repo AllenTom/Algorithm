{
 "metadata": {
  "language_info": {
   "codemirror_mode": {
    "name": "ipython",
    "version": 3
   },
   "file_extension": ".py",
   "mimetype": "text/x-python",
   "name": "python",
   "nbconvert_exporter": "python",
   "pygments_lexer": "ipython3",
   "version": "3.8.1-final"
  },
  "orig_nbformat": 2,
  "kernelspec": {
   "name": "python38164bited0cfbe7c3504f05a4d155e3328c3124",
   "display_name": "Python 3.8.1 64-bit"
  }
 },
 "nbformat": 4,
 "nbformat_minor": 2,
 "cells": [
  {
   "cell_type": "markdown",
   "metadata": {},
   "source": [
    "# Subsets\n",
    "\n",
    "Given a set of distinct integers, nums, return all possible subsets (the power set).\n"
   ]
  },
  {
   "cell_type": "markdown",
   "metadata": {},
   "source": [
    "## 解析\n",
    "\n",
    "题目来源:[LeetCode - Subsets - 78](https://leetcode.com/problems/subsets/)\n",
    "\n",
    "简单明了的题目，求不重复的子集,的全排列问题。这是在数组的题目解答中比较常用的操作。\n",
    "\n",
    "解决的方法很多，递归、生成队列等，这里使用二进制的方式进行全排列枚举"
   ]
  },
  {
   "cell_type": "code",
   "execution_count": null,
   "metadata": {},
   "outputs": [],
   "source": [
    " def subsets(nums):\n",
    "    result = []\n",
    "    wide = len(nums)\n",
    "    format_str = \"{0:0%sb}\" % (wide)\n",
    "    for i in range(0,(2 ** wide)):\n",
    "        bit_str = format_str.format(i)\n",
    "        seq = []\n",
    "        for bit_idx in range(0,len(bit_str)):\n",
    "            if (bit_str[bit_idx] == \"1\"):\n",
    "                seq.append(nums[bit_idx])\n",
    "        result.append(seq)\n",
    "    return result\n",
    "    \n"
   ]
  },
  {
   "cell_type": "code",
   "execution_count": null,
   "metadata": {
    "tags": []
   },
   "outputs": [],
   "source": [
    "print(subsets([1,2,3]))"
   ]
  }
 ]
}