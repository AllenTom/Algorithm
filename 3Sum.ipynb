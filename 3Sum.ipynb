{
 "metadata": {
  "language_info": {
   "codemirror_mode": {
    "name": "ipython",
    "version": 3
   },
   "file_extension": ".py",
   "mimetype": "text/x-python",
   "name": "python",
   "nbconvert_exporter": "python",
   "pygments_lexer": "ipython3",
   "version": 3
  },
  "orig_nbformat": 2
 },
 "nbformat": 4,
 "nbformat_minor": 2,
 "cells": [
  {
   "cell_type": "markdown",
   "metadata": {},
   "source": [
    "# 3Sum\n",
    "\n",
    "Given an array nums of n integers, are there elements a, b, c in nums such that a + b + c = 0? Find all unique triplets in the array which gives the sum of zero.\n"
   ]
  },
  {
   "cell_type": "markdown",
   "metadata": {},
   "source": [
    "## 解析\n",
    "\n",
    "题目来源:[LeetCode - 3Sum - 15]\n",
    "\n",
    "警告： 此题在 LeetCode上会超时，看了评论区，貌似python都有这样的现象\n",
    "\n",
    "典型的求子序列+过滤的套路，使用回溯法，注意递归的边界为`len(select) == 3`"
   ]
  },
  {
   "cell_type": "code",
   "execution_count": null,
   "metadata": {},
   "outputs": [],
   "source": [
    "def threeSum(nums):\n",
    "    result = []\n",
    "    seen = []\n",
    "    start = timeit.default_timer()\n",
    "\n",
    "    def find(select, options):\n",
    "        if len(select) > 3:\n",
    "            return\n",
    "        for option in options:\n",
    "            new_options = options + []\n",
    "            new_options.remove(option)\n",
    "            find(select + [option], new_options)\n",
    "\n",
    "        if sum(select) == 0 and len(select) == 3:\n",
    "            seq = sorted(select)\n",
    "            if seq not in seen:\n",
    "                result.append(seq)\n",
    "                seen.append(seq)\n",
    "    find([], nums)\n",
    "    return result"
   ]
  }
 ]
}