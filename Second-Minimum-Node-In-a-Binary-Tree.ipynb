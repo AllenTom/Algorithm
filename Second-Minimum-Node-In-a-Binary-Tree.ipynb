{
 "metadata": {
  "language_info": {
   "codemirror_mode": {
    "name": "ipython",
    "version": 3
   },
   "file_extension": ".py",
   "mimetype": "text/x-python",
   "name": "python",
   "nbconvert_exporter": "python",
   "pygments_lexer": "ipython3",
   "version": 3
  },
  "orig_nbformat": 2
 },
 "nbformat": 4,
 "nbformat_minor": 2,
 "cells": [
  {
   "source": [
    "# Second Minimum Node In a Binary Tree\n",
    "\n",
    "Given a non-empty special binary tree consisting of nodes with the non-negative value, where each node in this tree has exactly two or zero sub-node. If the node has two sub-nodes, then this node's value is the smaller value among its two sub-nodes. More formally, the property root.val = min(root.left.val, root.right.val) always holds."
   ],
   "cell_type": "markdown",
   "metadata": {}
  },
  {
   "source": [
    "## 解析\n",
    "\n",
    "题目来源:[LeetCode - Second Minimum Node In a Binary Tree - 671](https://leetcode.com/problems/second-minimum-node-in-a-binary-tree/)\n",
    "\n",
    "题目非常简单，遍历树的方法非常多"
   ],
   "cell_type": "markdown",
   "metadata": {}
  },
  {
   "cell_type": "code",
   "execution_count": null,
   "metadata": {},
   "outputs": [],
   "source": [
    "def findSecondMinimumValue(root):\n",
    "        queue = [root]\n",
    "        result = []\n",
    "        while(len(queue) != 0):\n",
    "            node = queue.pop()\n",
    "            if (node.val not in result):\n",
    "                result.append(node.val)\n",
    "            if (node.left is not None):\n",
    "                queue.append(node.left)\n",
    "            if (node.right is not None):\n",
    "                queue.append(node.right)\n",
    "        result.sort()\n",
    "        if (len(result) <= 1):\n",
    "            return -1\n",
    "        return result[1]"
   ]
  }
 ]
}