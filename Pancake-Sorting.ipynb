{
 "metadata": {
  "language_info": {
   "codemirror_mode": {
    "name": "ipython",
    "version": 3
   },
   "file_extension": ".py",
   "mimetype": "text/x-python",
   "name": "python",
   "nbconvert_exporter": "python",
   "pygments_lexer": "ipython3",
   "version": "3.8.1-final"
  },
  "orig_nbformat": 2,
  "kernelspec": {
   "name": "python38164bited0cfbe7c3504f05a4d155e3328c3124",
   "display_name": "Python 3.8.1 64-bit"
  }
 },
 "nbformat": 4,
 "nbformat_minor": 2,
 "cells": [
  {
   "cell_type": "markdown",
   "metadata": {},
   "source": [
    "# Pancake Sorting\n",
    "\n",
    "Given an array A, we can perform a pancake flip: We choose some positive integer k <= A.length, then reverse the order of the first k elements of A.  We want to perform zero or more pancake flips (doing them one after another in succession) to sort the array A.\n",
    "\n",
    "Return the k-values corresponding to a sequence of pancake flips that sort A.  Any valid answer that sorts the array within 10 * A.length flips will be judged as correct."
   ]
  },
  {
   "cell_type": "markdown",
   "metadata": {},
   "source": [
    "## 解析\n",
    "\n",
    "题目来源:[LeetCode - Pancake Sorting - 969](https://leetcode.com/problems/pancake-sorting/)\n",
    "\n",
    "本题是一道通过翻转排序的题目，由于可以对序列前`k`个元素进行翻转，所以优先考虑将大的拍好后放置在序列末尾。其他元素翻转的时候就不会影响了。"
   ]
  },
  {
   "cell_type": "code",
   "execution_count": null,
   "metadata": {},
   "outputs": [],
   "source": [
    "#定义翻转函数\n",
    "def flip(A,k):\n",
    "    for idx in range (0,int(k/2) + 1):\n",
    "        A[idx],A[k-idx] = A[k-idx],A[idx] \n",
    "    return A"
   ]
  },
  {
   "cell_type": "code",
   "execution_count": null,
   "metadata": {
    "tags": []
   },
   "outputs": [],
   "source": [
    "print(flip([3,2,4,1],3))"
   ]
  },
  {
   "cell_type": "code",
   "execution_count": null,
   "metadata": {},
   "outputs": [],
   "source": [
    "def pancakeSort(A):\n",
    "    seq = []\n",
    "    for idx in range(len(A) - 1,0,-1):\n",
    "        current_max = max(A[:idx + 1])\n",
    "        if (current_max == A[idx]):\n",
    "            # 已经处于正确的位置不需要翻转\n",
    "            continue\n",
    "        max_idx = A.index(current_max)\n",
    "        #将操作对象翻转至序列首位\n",
    "        A = flip(A,max_idx)\n",
    "        seq.append(max_idx + 1)\n",
    "        #将当前对象反转至末尾\n",
    "        A = flip(A,idx)\n",
    "        seq.append(idx + 1)\n",
    "    print(A)\n",
    "    return seq\n"
   ]
  },
  {
   "cell_type": "code",
   "execution_count": null,
   "metadata": {
    "tags": []
   },
   "outputs": [],
   "source": [
    "print(pancakeSort([3,2,4,1]))"
   ]
  }
 ]
}