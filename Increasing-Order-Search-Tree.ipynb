{
 "metadata": {
  "language_info": {
   "codemirror_mode": {
    "name": "ipython",
    "version": 3
   },
   "file_extension": ".py",
   "mimetype": "text/x-python",
   "name": "python",
   "nbconvert_exporter": "python",
   "pygments_lexer": "ipython3",
   "version": 3
  },
  "orig_nbformat": 2
 },
 "nbformat": 4,
 "nbformat_minor": 2,
 "cells": [
  {
   "cell_type": "markdown",
   "metadata": {},
   "source": []
  },
  {
   "cell_type": "markdown",
   "metadata": {},
   "source": [
    "# Increasing Order Search Tree\n",
    "\n",
    "Given a binary search tree, rearrange the tree in in-order so that the leftmost node in the tree is now the root of the tree, and every node has no left child and only 1 right child."
   ]
  },
  {
   "cell_type": "markdown",
   "metadata": {},
   "source": [
    "## 解析\n",
    "\n",
    "题目来源:[LeetCode - Increasing Order Search Tree - 897](https://leetcode.com/problems/increasing-order-search-tree/)\n",
    "\n",
    "通常做法是先遍历整个树在按照要求重新生成新的树即可"
   ]
  },
  {
   "cell_type": "code",
   "execution_count": null,
   "metadata": {},
   "outputs": [],
   "source": [
    "class TreeNode:\n",
    "    def __init__(self, val=0, left=None, right=None):\n",
    "        self.val = val\n",
    "        self.left = left\n",
    "        self.right = right\n",
    "\n",
    "def createtree(l):\n",
    "    if l[0]:\n",
    "        root=TreeNode(l[0])\n",
    "        nodes=[root]\n",
    "        id=1\n",
    "        while nodes and id<len(l):\n",
    "            node=nodes[0]\n",
    "            node.left=TreeNode(l[id]) if l[id] else None\n",
    "            nodes.append(node.left)\n",
    "            node.right=TreeNode(l[id+1]) if id<len(l)-1 and l[id+1] else None\n",
    "            nodes.append(node.right)\n",
    "            id+=2\n",
    "            nodes.pop(0)\n",
    "        return root\n",
    "    else:\n",
    "        return None\n",
    "\n",
    "arr = [5,3,6,2,4,None,8,1,7,9]\n",
    "root = createtree(arr)"
   ]
  },
  {
   "cell_type": "code",
   "execution_count": null,
   "metadata": {},
   "outputs": [],
   "source": [
    "def increasingBST(self, root: TreeNode) -> TreeNode:\n",
    "        seq = []\n",
    "        def walk(node):\n",
    "            nonlocal seq\n",
    "            if node is None:\n",
    "                return\n",
    "            seq.append(node.val)\n",
    "            walk(node.left)\n",
    "            walk(node.right)\n",
    "        walk(root)\n",
    "        seq.sort()\n",
    "        cur_node = TreeNode(seq.pop(0))\n",
    "        def build(parent):\n",
    "            nonlocal seq\n",
    "            if len(seq) == 0:\n",
    "                return\n",
    "            parent.right = TreeNode(seq.pop(0))\n",
    "            build(parent.right)\n",
    "        build(cur_node)\n",
    "        return cur_node"
   ]
  }
 ]
}