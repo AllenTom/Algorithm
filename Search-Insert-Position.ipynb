{
 "metadata": {
  "language_info": {
   "codemirror_mode": {
    "name": "ipython",
    "version": 3
   },
   "file_extension": ".py",
   "mimetype": "text/x-python",
   "name": "python",
   "nbconvert_exporter": "python",
   "pygments_lexer": "ipython3",
   "version": "3.8.1-final"
  },
  "orig_nbformat": 2,
  "kernelspec": {
   "name": "python38164bited0cfbe7c3504f05a4d155e3328c3124",
   "display_name": "Python 3.8.1 64-bit"
  }
 },
 "nbformat": 4,
 "nbformat_minor": 2,
 "cells": [
  {
   "cell_type": "markdown",
   "metadata": {},
   "source": [
    "# Search Insert Position\n",
    "\n",
    "Given a sorted array and a target value, return the index if the target is found. If not, return the index where it would be if it were inserted in order.\n",
    "\n",
    "You may assume no duplicates in the array."
   ]
  },
  {
   "cell_type": "markdown",
   "metadata": {},
   "source": [
    "## 解析\n",
    "\n",
    "题目来源:[LeetCode - Search Insert Position - 35](https://leetcode.com/problems/search-insert-position/)\n",
    "\n",
    "\n",
    "题目比较简单。\n"
   ]
  },
  {
   "cell_type": "code",
   "execution_count": null,
   "metadata": {},
   "outputs": [],
   "source": [
    " def searchInsert(nums target):\n",
    "    for idx in range(0,len(nums)):\n",
    "        if nums[idx] == target or nums[idx] > target:\n",
    "            return idx\n",
    "    return len(nums)"
   ]
  },
  {
   "cell_type": "code",
   "execution_count": null,
   "metadata": {
    "tags": []
   },
   "outputs": [],
   "source": [
    "print(searchInsert([1,3,5,6], 5))"
   ]
  }
 ]
}