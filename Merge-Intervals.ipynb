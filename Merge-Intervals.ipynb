{
 "metadata": {
  "language_info": {
   "codemirror_mode": {
    "name": "ipython",
    "version": 3
   },
   "file_extension": ".py",
   "mimetype": "text/x-python",
   "name": "python",
   "nbconvert_exporter": "python",
   "pygments_lexer": "ipython3",
   "version": "3.8.1-final"
  },
  "orig_nbformat": 2,
  "kernelspec": {
   "name": "python38164bited0cfbe7c3504f05a4d155e3328c3124",
   "display_name": "Python 3.8.1 64-bit"
  }
 },
 "nbformat": 4,
 "nbformat_minor": 2,
 "cells": [
  {
   "cell_type": "markdown",
   "metadata": {},
   "source": [
    "# Merge Intervals\n",
    "\n",
    "Given a collection of intervals, merge all overlapping intervals.\n",
    "\n",
    "\n"
   ]
  },
  {
   "cell_type": "markdown",
   "metadata": {},
   "source": [
    "## 解析\n",
    "题目来源:[LeetCode Merge - Intervals - 56](https://leetcode.com/problems/merge-intervals/)\n",
    "\n",
    "按照数学的思维，两个区间有以下的关系：\n",
    "\n",
    "1. 不重合\n",
    "2. 完全重合\n",
    "3. 不完全重合(分左右)\n",
    "\n",
    "但是如果按部就班的按照这些情况处理，就非常麻烦(至少LeetCode中这么麻烦至少是Hard而不是Medium)\n",
    "\n",
    "此题比较巧，有两个关键点：\n",
    "- 事先对列表\n",
    "- 合并中的流程控制\n",
    "\n",
    "最关键的是第一点"
   ]
  },
  {
   "cell_type": "code",
   "execution_count": null,
   "metadata": {},
   "outputs": [],
   "source": [
    "def merge(intervals):\n",
    "    cur = 0\n",
    "    intervals.sort(key=lambda item: item[0])\n",
    "    while cur < len(intervals):\n",
    "        zone = intervals[cur]\n",
    "        merge_cur = cur + 1\n",
    "        while merge_cur < len(intervals):\n",
    "            if intervals[cur][1]>=intervals[merge_cur][0]:\n",
    "                intervals[cur][1] = max(intervals[cur][1],intervals[merge_cur][1])\n",
    "                intervals.remove(intervals[merge_cur])\n",
    "                continue\n",
    "            merge_cur += 1\n",
    "        cur += 1\n",
    "    return intervals"
   ]
  },
  {
   "cell_type": "code",
   "execution_count": null,
   "metadata": {
    "tags": []
   },
   "outputs": [],
   "source": [
    "print(merge([[1,3],[2,6],[8,10],[15,18]]))"
   ]
  }
 ]
}