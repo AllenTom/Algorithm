{
 "metadata": {
  "language_info": {
   "codemirror_mode": {
    "name": "ipython",
    "version": 3
   },
   "file_extension": ".py",
   "mimetype": "text/x-python",
   "name": "python",
   "nbconvert_exporter": "python",
   "pygments_lexer": "ipython3",
   "version": 3
  },
  "orig_nbformat": 2
 },
 "nbformat": 4,
 "nbformat_minor": 2,
 "cells": [
  {
   "cell_type": "markdown",
   "metadata": {},
   "source": [
    "# N-ary Tree Postorder Traversal"
   ]
  },
  {
   "cell_type": "markdown",
   "metadata": {},
   "source": [
    "## 解析\n",
    "\n",
    "题目来源:[LeetCode - N-ary Tree Postorder Traversal - 590](https://leetcode.com/problems/n-ary-tree-postorder-traversal/)\n",
    "\n",
    "题目非常简单，与之前的前序遍历几乎相同，只是访问的时机不同"
   ]
  },
  {
   "cell_type": "code",
   "execution_count": null,
   "metadata": {},
   "outputs": [],
   "source": [
    "def postorder(root):\n",
    "        result = []\n",
    "        def walk(node):\n",
    "            nonlocal result\n",
    "            if node is None:\n",
    "                return;\n",
    "            \n",
    "            for child in node.children:\n",
    "                walk(child)\n",
    "            result.append(node.val)\n",
    "        walk(root)\n",
    "        return result"
   ]
  }
 ]
}