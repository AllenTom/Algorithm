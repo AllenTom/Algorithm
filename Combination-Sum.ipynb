{
 "metadata": {
  "language_info": {
   "codemirror_mode": {
    "name": "ipython",
    "version": 3
   },
   "file_extension": ".py",
   "mimetype": "text/x-python",
   "name": "python",
   "nbconvert_exporter": "python",
   "pygments_lexer": "ipython3",
   "version": "3.8.1-final"
  },
  "orig_nbformat": 2,
  "kernelspec": {
   "name": "python38164bited0cfbe7c3504f05a4d155e3328c3124",
   "display_name": "Python 3.8.1 64-bit"
  }
 },
 "nbformat": 4,
 "nbformat_minor": 2,
 "cells": [
  {
   "cell_type": "markdown",
   "metadata": {},
   "source": [
    "# Combination Sum\n",
    "\n",
    "Given a set of candidate numbers (candidates) (without duplicates) and a target number (target), find all unique combinations in candidates where the candidate numbers sums to target.\n",
    "\n",
    "The same repeated number may be chosen from candidates unlimited number of times.\n"
   ]
  },
  {
   "cell_type": "markdown",
   "metadata": {},
   "source": [
    "## 解析\n",
    "\n",
    "题目来源:[LeetCode - Combination Sum - 39](https://leetcode.com/problems/combination-sum/)\n",
    "\n",
    "典型的求子集+过滤子集的套路，使用递归求子集并且使用回溯法去重即可。"
   ]
  },
  {
   "cell_type": "code",
   "execution_count": null,
   "metadata": {},
   "outputs": [],
   "source": [
    "def combinationSum(candidates, target):\n",
    "        result = []\n",
    "        seen = []\n",
    "        def find(target, select):\n",
    "            for option in candidates:\n",
    "                if (target - sum(select) - option) > 0:\n",
    "                    find(target, select + [option])\n",
    "                elif (target - sum(select) - option) == 0:\n",
    "                    seq = sorted(select + [option])\n",
    "                    if seq not in seen:\n",
    "                        result.append(seq)\n",
    "                        seen.append(seq)\n",
    "\n",
    "        find(target, [])\n",
    "        return result"
   ]
  },
  {
   "cell_type": "code",
   "execution_count": null,
   "metadata": {
    "tags": []
   },
   "outputs": [],
   "source": [
    "print(combinationSum([2,3,6,7],7))"
   ]
  }
 ]
}