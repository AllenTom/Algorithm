{
 "metadata": {
  "language_info": {
   "codemirror_mode": {
    "name": "ipython",
    "version": 3
   },
   "file_extension": ".py",
   "mimetype": "text/x-python",
   "name": "python",
   "nbconvert_exporter": "python",
   "pygments_lexer": "ipython3",
   "version": "3.8.1-final"
  },
  "orig_nbformat": 2,
  "kernelspec": {
   "name": "python38164bited0cfbe7c3504f05a4d155e3328c3124",
   "display_name": "Python 3.8.1 64-bit"
  }
 },
 "nbformat": 4,
 "nbformat_minor": 2,
 "cells": [
  {
   "cell_type": "markdown",
   "metadata": {},
   "source": [
    "# Count Good Triplets\n",
    "\n",
    "Given an array of integers arr, and three integers a, b and c. You need to find the number of good triplets.\n",
    "\n",
    "A triplet (`arr[i]`, `arr[j]`, `arr[k]`) is good if the following conditions are true:\n",
    "\n",
    "0 <= i < j < k < arr.length\n",
    "- `|arr[i] - arr[j]| <= a`\n",
    "- `|arr[j] - arr[k]| <= b`\n",
    "- `|arr[i] - arr[k]| <= c`\n",
    "Where |x| denotes the absolute value of x.\n",
    "\n",
    "Return the number of good triplets.\n"
   ]
  },
  {
   "cell_type": "markdown",
   "metadata": {},
   "source": [
    "## 备注\n",
    "题目来源:[LeetCode - Count Good Triplets - 1534](https://leetcode.com/problems/count-good-triplets/)\n",
    "\n",
    "很简(wu)单(liao)的一道题目，可以直接暴力穷举并搜索即可。"
   ]
  },
  {
   "cell_type": "code",
   "execution_count": null,
   "metadata": {},
   "outputs": [],
   "source": [
    "def countGoodTriplets(arr, a, b, c) -> int:\n",
    "    count  = 0\n",
    "    for i_idx in range(0,len(arr)):\n",
    "        for j_idx in range(i_idx + 1,len(arr)):\n",
    "            for k_idx in range(j_idx + 1,len(arr)):\n",
    "                if abs(arr[i_idx] - arr[j_idx]) <= a and abs(arr[j_idx] - arr[k_idx]) <= b and abs(arr[i_idx] - arr[k_idx]) <= c:\n",
    "                    count += 1\n",
    "    return count"
   ]
  },
  {
   "cell_type": "code",
   "execution_count": null,
   "metadata": {
    "tags": []
   },
   "outputs": [],
   "source": [
    "print(countGoodTriplets([3,0,1,1,9,7],7,2,3))"
   ]
  }
 ]
}