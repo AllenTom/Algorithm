{
 "metadata": {
  "language_info": {
   "codemirror_mode": {
    "name": "ipython",
    "version": 3
   },
   "file_extension": ".py",
   "mimetype": "text/x-python",
   "name": "python",
   "nbconvert_exporter": "python",
   "pygments_lexer": "ipython3",
   "version": "3.8.1-final"
  },
  "orig_nbformat": 2,
  "kernelspec": {
   "name": "python38164bited0cfbe7c3504f05a4d155e3328c3124",
   "display_name": "Python 3.8.1 64-bit"
  }
 },
 "nbformat": 4,
 "nbformat_minor": 2,
 "cells": [
  {
   "cell_type": "markdown",
   "metadata": {},
   "source": [
    "# Reveal Cards In Increasing Order\n",
    "\n",
    "In a deck of cards, every card has a unique integer.  You can order the deck in any order you want.\n",
    "\n",
    "Initially, all the cards start face down (unrevealed) in one deck.\n",
    "\n",
    "Now, you do the following steps repeatedly, until all cards are revealed:\n",
    "\n",
    "Take the top card of the deck, reveal it, and take it out of the deck.\n",
    "If there are still cards in the deck, put the next top card of the deck at the bottom of the deck.\n",
    "If there are still unrevealed cards, go back to step 1.  Otherwise, stop.\n",
    "Return an ordering of the deck that would reveal the cards in increasing order.\n",
    "\n",
    "The first entry in the answer is considered to be the top of the deck."
   ]
  },
  {
   "cell_type": "markdown",
   "metadata": {},
   "source": [
    "## 解析\n",
    "\n",
    "题目来源:[LeetCode - Reveal Cards In Increasing Order - 950](https://leetcode.com/problems/reveal-cards-in-increasing-order/)\n",
    "\n",
    "如果采用暴力解法并且按照题目描述的方式进行判断，显然是不现实的。此题需要观察生成的序列并寻找规律。\n",
    "\n",
    "```\n",
    "[3,11,5,17,7,13]\n",
    "[5,17,7,13,11]\n",
    "[7,13,11,17]\n",
    "[11,17,13]\n",
    "[13,17]\n",
    "[17]\n",
    "```\n",
    "可以采取反推的形式，观察每一轮牌桌上的牌，每一轮都符合一下规律:\n",
    "- 每次选取的数字都是当前剩下的牌中比较大的，即`max(deck)`,将其插入至序列首位\n",
    "- 先前序列的最后一个会被移动到序列首相的后一项"
   ]
  },
  {
   "cell_type": "code",
   "execution_count": null,
   "metadata": {},
   "outputs": [],
   "source": [
    "def deckRevealedIncreasing(deck):\n",
    "    result = []\n",
    "    while len(deck) != 0:\n",
    "        current_max = max(deck)\n",
    "        if len(result) < 2:\n",
    "            result.insert(0,current_max)\n",
    "        else:\n",
    "            result.insert(0,current_max)\n",
    "            last = result.pop()\n",
    "            result.insert(1,last)\n",
    "        deck.remove(current_max)\n",
    "    return result"
   ]
  },
  {
   "cell_type": "code",
   "execution_count": null,
   "metadata": {
    "tags": []
   },
   "outputs": [],
   "source": [
    "print(deckRevealedIncreasing([17,13,11,2,3,5,7]))"
   ]
  }
 ]
}