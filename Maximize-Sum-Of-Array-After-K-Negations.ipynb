{
 "metadata": {
  "language_info": {
   "codemirror_mode": {
    "name": "ipython",
    "version": 3
   },
   "file_extension": ".py",
   "mimetype": "text/x-python",
   "name": "python",
   "nbconvert_exporter": "python",
   "pygments_lexer": "ipython3",
   "version": "3.8.1-final"
  },
  "orig_nbformat": 2,
  "kernelspec": {
   "name": "python38164bited0cfbe7c3504f05a4d155e3328c3124",
   "display_name": "Python 3.8.1 64-bit"
  }
 },
 "nbformat": 4,
 "nbformat_minor": 2,
 "cells": [
  {
   "cell_type": "markdown",
   "metadata": {},
   "source": [
    "# Maximize Sum Of Array After K Negations\n",
    "\n",
    "Given an array A of integers, we must modify the array in the following way: we choose an i and replace `A[i]` with `-A[i]`, and we repeat this process `K` times in total.  (We may choose the same index i multiple times.)\n",
    "\n",
    "Return the largest possible sum of the array after modifying it in this way."
   ]
  },
  {
   "cell_type": "markdown",
   "metadata": {},
   "source": [
    "## 解析\n",
    "\n",
    "题目来源:[LeetCode - Maximize Sum Of Array After K Negations - 1005](https://leetcode.com/problems/maximize-sum-of-array-after-k-negations/)\n",
    "\n",
    "此题属于贪心算法。核心策略为:\n",
    "\n",
    "*每次都将最小的改变符号*"
   ]
  },
  {
   "cell_type": "markdown",
   "metadata": {},
   "source": [
    "直接依据题意可以将每次改变符号前排序就可以得到最小的了"
   ]
  },
  {
   "cell_type": "code",
   "execution_count": null,
   "metadata": {},
   "outputs": [],
   "source": [
    "def largestSumAfterKNegations(A, K):\n",
    "    for i in range (0,K):\n",
    "        A.sort()\n",
    "        if A[0] == 0:\n",
    "            break;\n",
    "        A[0] = -A[0]\n",
    "    return sum(A)"
   ]
  },
  {
   "cell_type": "code",
   "execution_count": null,
   "metadata": {
    "tags": []
   },
   "outputs": [],
   "source": [
    "print(largestSumAfterKNegations([4,2,3],1))"
   ]
  },
  {
   "cell_type": "markdown",
   "metadata": {},
   "source": [
    "每次都排序未免有点麻烦.观察发现：\n",
    "\n",
    "排序后序列是升序的，我们可以通过前后的关系来推进序列的遍历"
   ]
  },
  {
   "cell_type": "code",
   "execution_count": null,
   "metadata": {},
   "outputs": [],
   "source": [
    "def largestSumAfterKNegations2(A, K):\n",
    "        A.sort()\n",
    "        count = K\n",
    "        idx = 0\n",
    "        while count > 0:\n",
    "            if A[idx] <= A[idx + 1]:\n",
    "                A[idx] = A[idx] * -1\n",
    "                count -= 1\n",
    "                continue\n",
    "            idx += 1\n",
    "        return sum(A)"
   ]
  },
  {
   "cell_type": "code",
   "execution_count": null,
   "metadata": {},
   "outputs": [],
   "source": [
    "print(largestSumAfterKNegations2([4,2,3],1))"
   ]
  }
 ]
}