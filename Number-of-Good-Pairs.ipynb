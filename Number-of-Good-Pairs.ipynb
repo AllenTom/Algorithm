{
 "metadata": {
  "language_info": {
   "codemirror_mode": {
    "name": "ipython",
    "version": 3
   },
   "file_extension": ".py",
   "mimetype": "text/x-python",
   "name": "python",
   "nbconvert_exporter": "python",
   "pygments_lexer": "ipython3",
   "version": "3.8.1-final"
  },
  "orig_nbformat": 2,
  "kernelspec": {
   "name": "python38164bited0cfbe7c3504f05a4d155e3328c3124",
   "display_name": "Python 3.8.1 64-bit"
  }
 },
 "nbformat": 4,
 "nbformat_minor": 2,
 "cells": [
  {
   "cell_type": "markdown",
   "metadata": {},
   "source": [
    "# Number of Good Pairs\n",
    "\n",
    "Given an array of integers nums.\n",
    "\n",
    "A pair `(i,j)` is called good if `nums[i] == nums[j]` and `i < j`.\n",
    "\n",
    "Return the number of good pairs."
   ]
  },
  {
   "cell_type": "markdown",
   "metadata": {},
   "source": [
    "## 解析\n",
    "题目来源:[LeetCode Number of Good Pairs - 1512](https://leetcode.com/problems/number-of-good-pairs/)\n",
    "\n",
    "非常简单的题目，只需要依照题意中的要求，在穷举的序列中寻找符合条件的组合即可"
   ]
  },
  {
   "cell_type": "code",
   "execution_count": null,
   "metadata": {},
   "outputs": [],
   "source": [
    "def numIdenticalPairs(nums):\n",
    "    count=0\n",
    "    for i in range(len(nums)):\n",
    "        for j in range(i+1,len(nums)):\n",
    "            if (i<j) and (nums[i]==nums[j]):\n",
    "                count+=1\n",
    "    return count"
   ]
  },
  {
   "cell_type": "code",
   "execution_count": null,
   "metadata": {
    "tags": []
   },
   "outputs": [],
   "source": [
    "print(numIdenticalPairs([1,2,3,1,1,3]))"
   ]
  }
 ]
}