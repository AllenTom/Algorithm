{
 "metadata": {
  "language_info": {
   "codemirror_mode": {
    "name": "ipython",
    "version": 3
   },
   "file_extension": ".py",
   "mimetype": "text/x-python",
   "name": "python",
   "nbconvert_exporter": "python",
   "pygments_lexer": "ipython3",
   "version": "3.8.1-final"
  },
  "orig_nbformat": 2,
  "kernelspec": {
   "name": "python38164bited0cfbe7c3504f05a4d155e3328c3124",
   "display_name": "Python 3.8.1 64-bit"
  }
 },
 "nbformat": 4,
 "nbformat_minor": 2,
 "cells": [
  {
   "cell_type": "markdown",
   "metadata": {},
   "source": [
    "# 链表"
   ]
  },
  {
   "cell_type": "code",
   "execution_count": null,
   "metadata": {},
   "outputs": [],
   "source": [
    "class Node:\n",
    "    def __init__(self,data,next_node):\n",
    "        self.data = data\n",
    "        self.next_node = next_node\n",
    "        \n"
   ]
  },
  {
   "cell_type": "markdown",
   "metadata": {},
   "source": [
    "## 创建"
   ]
  },
  {
   "cell_type": "code",
   "execution_count": null,
   "metadata": {},
   "outputs": [],
   "source": [
    "head = Node(idx,None)    "
   ]
  },
  {
   "cell_type": "markdown",
   "metadata": {},
   "source": [
    "## 遍历"
   ]
  },
  {
   "cell_type": "code",
   "execution_count": null,
   "metadata": {},
   "outputs": [],
   "source": [
    "def iter(head,action_func):\n",
    "    node_iter =  head\n",
    "    while node_iter != None:\n",
    "        action_func(node_iter)\n",
    "        node_iter = node_iter.next_node\n",
    "    "
   ]
  },
  {
   "cell_type": "code",
   "execution_count": null,
   "metadata": {},
   "outputs": [],
   "source": [
    "# 输出节点\n",
    "def print_node(node):\n",
    "    print(node.data,end=\" -> \")\n",
    "    if (node.next_node == None):\n",
    "        print(\"None\")"
   ]
  },
  {
   "cell_type": "markdown",
   "metadata": {},
   "source": [
    "## 左插入"
   ]
  },
  {
   "cell_type": "code",
   "execution_count": null,
   "metadata": {},
   "outputs": [],
   "source": [
    "def insert_from_head(head,value):\n",
    "    new_node = Node(value,head)\n",
    "    return new_node"
   ]
  },
  {
   "cell_type": "code",
   "execution_count": null,
   "metadata": {
    "tags": []
   },
   "outputs": [],
   "source": [
    "# 左插入示例\n",
    "head1 = None\n",
    "for idx in range(0,10):\n",
    "    if(idx == 0):\n",
    "        head1 = Node(idx,None)\n",
    "    else:\n",
    "        head1 = insert_from_head(head1,idx)\n",
    "\n",
    "iter(head1,print_node)\n",
    "        "
   ]
  },
  {
   "cell_type": "markdown",
   "metadata": {},
   "source": [
    "## 右插入"
   ]
  },
  {
   "cell_type": "code",
   "execution_count": null,
   "metadata": {},
   "outputs": [],
   "source": [
    "def right_insert(head,value):\n",
    "    #遍历至尾部\n",
    "    node_iter =  head\n",
    "    while node_iter.next_node != None:\n",
    "        node_iter = node_iter.next_node\n",
    "    \n",
    "    new_node = Node(value,None)\n",
    "    node_iter.next_node = new_node\n",
    "    return head"
   ]
  },
  {
   "cell_type": "code",
   "execution_count": null,
   "metadata": {
    "tags": []
   },
   "outputs": [],
   "source": [
    "# 右插入示例\n",
    "head2 = None\n",
    "for idx in range(0,10):\n",
    "    if (idx == 0):\n",
    "        head2 = Node(idx,None)\n",
    "    else:\n",
    "        head2 = right_insert(head2,idx)\n",
    "iter(head2,print_node)\n"
   ]
  },
  {
   "cell_type": "code",
   "execution_count": null,
   "metadata": {},
   "outputs": [],
   "source": [
    "def create_example_linked_list(start = 0,end = 10):\n",
    "    head = None\n",
    "    for idx in range(start,end):\n",
    "        if (idx == 0):\n",
    "            head = Node(idx,None)\n",
    "        else:\n",
    "            head = right_insert(head,idx)\n",
    "    return head"
   ]
  },
  {
   "cell_type": "markdown",
   "metadata": {},
   "source": [
    "## 获取长度"
   ]
  },
  {
   "cell_type": "code",
   "execution_count": null,
   "metadata": {},
   "outputs": [],
   "source": [
    "def get_length(node):\n",
    "    length = 0\n",
    "\n",
    "    def count_length(node):\n",
    "        nonlocal length\n",
    "        length += 1\n",
    "\n",
    "    iter(node,count_length)\n",
    "\n",
    "    return length"
   ]
  },
  {
   "cell_type": "code",
   "execution_count": null,
   "metadata": {
    "tags": []
   },
   "outputs": [],
   "source": [
    "# 获取长度example\n",
    "length_node = create_example_linked_list()\n",
    "print(get_length(length_node))"
   ]
  },
  {
   "cell_type": "markdown",
   "metadata": {},
   "source": [
    "## 获取指定下标节点\n"
   ]
  },
  {
   "cell_type": "code",
   "execution_count": null,
   "metadata": {},
   "outputs": [],
   "source": [
    "def get_node_with_index(head,index):\n",
    "    count = 0\n",
    "    node_iter = head\n",
    "    while node_iter != None and count != index:\n",
    "        node_iter = node_iter.next_node\n",
    "        count += 1\n",
    "    return node_iter"
   ]
  },
  {
   "cell_type": "code",
   "execution_count": null,
   "metadata": {
    "tags": []
   },
   "outputs": [],
   "source": [
    "# 示例\n",
    "get_index_node = create_example_linked_list(0,10)\n",
    "print(get_node_with_index(get_index_node,9).data)"
   ]
  },
  {
   "cell_type": "markdown",
   "metadata": {},
   "source": [
    "## 获取中间节点"
   ]
  },
  {
   "cell_type": "code",
   "execution_count": null,
   "metadata": {},
   "outputs": [],
   "source": [
    "# 快慢指针法\n",
    "def get_middle_node(head):\n",
    "    fast = head\n",
    "    slow = head\n",
    "    while fast.next_node != None and fast.next_node.next_node != None and slow.next_node != None:\n",
    "        fast = fast.next_node.next_node\n",
    "        slow = slow.next_node\n",
    "    return slow"
   ]
  },
  {
   "cell_type": "code",
   "execution_count": null,
   "metadata": {
    "tags": []
   },
   "outputs": [],
   "source": [
    "#示例\n",
    "middle1 = create_example_linked_list(0,5)\n",
    "print(get_middle_node(middle1).data) # 0 1 [2] 3 4"
   ]
  },
  {
   "cell_type": "markdown",
   "metadata": {},
   "source": [
    "## 查找"
   ]
  },
  {
   "cell_type": "code",
   "execution_count": null,
   "metadata": {},
   "outputs": [],
   "source": [
    "def find_node(head,target_value):\n",
    "    iter_node = head\n",
    "    while iter_node != None and iter_node.data != target_value:\n",
    "        iter_node = iter_node.next_node\n",
    "    return iter_node"
   ]
  },
  {
   "cell_type": "code",
   "execution_count": null,
   "metadata": {
    "tags": []
   },
   "outputs": [],
   "source": [
    "# 举例\n",
    "find_node_example = create_example_linked_list()\n",
    "target_node = find_node(find_node_example,100)\n",
    "if (target_node != None):\n",
    "    print(target_node.data)\n",
    "else:\n",
    "    print(\"no data\")"
   ]
  },
  {
   "cell_type": "markdown",
   "metadata": {},
   "source": [
    "## 删除节点"
   ]
  },
  {
   "cell_type": "code",
   "execution_count": null,
   "metadata": {},
   "outputs": [],
   "source": [
    "def delete_node_with_index(head,index):\n",
    "    count = 0\n",
    "    delete_node = get_node_with_index(head,index - 1)\n",
    "    delete_node.next_node = delete_node.next_node.next_node\n",
    "    return head\n",
    "        "
   ]
  },
  {
   "cell_type": "code",
   "execution_count": null,
   "metadata": {
    "tags": []
   },
   "outputs": [],
   "source": [
    "# 示例\n",
    "delete_node_example = create_example_linked_list()\n",
    "print(\"before delete:\")\n",
    "iter(delete_node_example,print_node)\n",
    "print(\"after delete\")\n",
    "delete_node_example = delete_node_with_index(delete_node_example,5)\n",
    "iter(delete_node_example,print_node)"
   ]
  },
  {
   "cell_type": "markdown",
   "metadata": {},
   "source": [
    "## 反转链表\n"
   ]
  },
  {
   "cell_type": "code",
   "execution_count": null,
   "metadata": {},
   "outputs": [],
   "source": [
    "def reverse(head):\n",
    "    pre_node = None\n",
    "    next_node = None\n",
    "    while head != None:\n",
    "        next_node = head.next_node     \n",
    "        head.next_node = pre_node    \n",
    "        pre_node = head      \n",
    "        head = next_node      \n",
    "        \n",
    "    return pre_node\n"
   ]
  },
  {
   "cell_type": "code",
   "execution_count": null,
   "metadata": {
    "tags": []
   },
   "outputs": [],
   "source": [
    "# 示例\n",
    "reverse_node = create_example_linked_list()\n",
    "reverse_node = reverse(reverse_node)\n",
    "iter(reverse_node,print_node)"
   ]
  }
 ]
}