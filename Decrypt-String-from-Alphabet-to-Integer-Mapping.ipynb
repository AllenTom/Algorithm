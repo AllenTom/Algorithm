{
 "metadata": {
  "language_info": {
   "codemirror_mode": {
    "name": "ipython",
    "version": 3
   },
   "file_extension": ".py",
   "mimetype": "text/x-python",
   "name": "python",
   "nbconvert_exporter": "python",
   "pygments_lexer": "ipython3",
   "version": "3.8.1-final"
  },
  "orig_nbformat": 2,
  "kernelspec": {
   "name": "python38164bited0cfbe7c3504f05a4d155e3328c3124",
   "display_name": "Python 3.8.1 64-bit"
  }
 },
 "nbformat": 4,
 "nbformat_minor": 2,
 "cells": [
  {
   "cell_type": "markdown",
   "metadata": {},
   "source": [
    "# Decrypt String from Alphabet to Integer Mapping\n",
    "\n",
    "Given a string s formed by digits ('0' - '9') and '#' . We want to map s to English lowercase characters as follows:\n",
    "\n",
    "Characters ('a' to 'i') are represented by ('1' to '9') respectively.\n",
    "Characters ('j' to 'z') are represented by ('10#' to '26#') respectively. \n",
    "Return the string formed after mapping.\n",
    "\n",
    "It's guaranteed that a unique mapping will always exist."
   ]
  },
  {
   "cell_type": "markdown",
   "metadata": {},
   "source": [
    "## 解析\n",
    "\n",
    "题目来源:[LeetCode - Decrypt String from Alphabet to Integer Mapping - 1309](https://leetcode.com/problems/decrypt-string-from-alphabet-to-integer-mapping/)\n",
    "\n",
    "此题比较简单，一次性读入两个字符，若第三个字符为`#`则解析为两位数，若不是，则将当前数字直接解析。\n",
    "效率为O(n)"
   ]
  },
  {
   "cell_type": "code",
   "execution_count": null,
   "metadata": {},
   "outputs": [],
   "source": [
    "def freqAlphabets(s):\n",
    "    result = \"\"\n",
    "    idx = 0\n",
    "    while idx < len(s):\n",
    "        if idx + 2 < len(s) and s[idx + 2] == \"#\":\n",
    "            result += chr(96 + int(s[idx:idx + 2]))\n",
    "            idx += 3\n",
    "        else:\n",
    "            result += chr(96 + int(s[idx]))\n",
    "            idx += 1\n",
    "    return result"
   ]
  },
  {
   "cell_type": "code",
   "execution_count": null,
   "metadata": {
    "tags": []
   },
   "outputs": [],
   "source": [
    "print(freqAlphabets(\"10#11#12\"))"
   ]
  }
 ]
}