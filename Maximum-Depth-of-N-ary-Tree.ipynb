{
 "metadata": {
  "language_info": {
   "codemirror_mode": {
    "name": "ipython",
    "version": 3
   },
   "file_extension": ".py",
   "mimetype": "text/x-python",
   "name": "python",
   "nbconvert_exporter": "python",
   "pygments_lexer": "ipython3",
   "version": 3
  },
  "orig_nbformat": 2
 },
 "nbformat": 4,
 "nbformat_minor": 2,
 "cells": [
  {
   "cell_type": "markdown",
   "metadata": {},
   "source": [
    "# Maximum Depth of N-ary Tree\n",
    "\n",
    "Given a n-ary tree, find its maximum depth.\n",
    "\n",
    "The maximum depth is the number of nodes along the longest path from the root node down to the farthest leaf node.\n",
    "\n",
    "Nary-Tree input serialization is represented in their level order traversal, each group of children is separated by the null value (See examples)."
   ]
  },
  {
   "cell_type": "markdown",
   "metadata": {},
   "source": [
    "## 解析\n",
    "\n",
    "题目来源:[LeetCode - Maximum Depth of N-ary Tree - 559](https://leetcode.com/problems/maximum-depth-of-n-ary-tree/)\n",
    "\n",
    "非常简单的一题，递归时带入深度即可"
   ]
  },
  {
   "cell_type": "code",
   "execution_count": null,
   "metadata": {},
   "outputs": [],
   "source": [
    "def maxDepth(root):\n",
    "        if root is None:\n",
    "            return 0\n",
    "        max_deep = 0\n",
    "        \n",
    "        def walk(node,deep):\n",
    "            nonlocal max_deep\n",
    "            deep += 1\n",
    "            max_deep = max(max_deep,deep)\n",
    "            for child in node.children:\n",
    "                walk(child,deep)\n",
    "        walk(root,0)\n",
    "        return max_deep"
   ]
  }
 ]
}