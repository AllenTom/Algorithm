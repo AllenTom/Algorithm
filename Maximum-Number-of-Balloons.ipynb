{
 "metadata": {
  "language_info": {
   "codemirror_mode": {
    "name": "ipython",
    "version": 3
   },
   "file_extension": ".py",
   "mimetype": "text/x-python",
   "name": "python",
   "nbconvert_exporter": "python",
   "pygments_lexer": "ipython3",
   "version": "3.8.1-final"
  },
  "orig_nbformat": 2,
  "kernelspec": {
   "name": "python38164bited0cfbe7c3504f05a4d155e3328c3124",
   "display_name": "Python 3.8.1 64-bit"
  }
 },
 "nbformat": 4,
 "nbformat_minor": 2,
 "cells": [
  {
   "cell_type": "markdown",
   "metadata": {},
   "source": [
    "# Maximum Number of Balloons\n",
    "\n",
    "Given a string text, you want to use the characters of text to form as many instances of the word \"balloon\" as possible.\n",
    "\n",
    "You can use each character in text at most once. Return the maximum number of instances that can be formed."
   ]
  },
  {
   "cell_type": "markdown",
   "metadata": {},
   "source": [
    "## 解析\n",
    "\n",
    "题目来源:[Maximum Number of Balloons - 1189](https://leetcode.com/problems/maximum-number-of-balloons/)\n",
    "\n",
    "非常简单的一题，如果以解决为目标，看图写话即可"
   ]
  },
  {
   "cell_type": "code",
   "execution_count": null,
   "metadata": {},
   "outputs": [],
   "source": [
    "def maxNumberOfBalloons(text):\n",
    "        count = 0\n",
    "        while True:\n",
    "            for c in \"balloon\":\n",
    "\n",
    "                if c in text:\n",
    "                    text = text.replace(c,\"\",1)\n",
    "                else:\n",
    "                    return count\n",
    "            count += 1"
   ]
  },
  {
   "cell_type": "code",
   "execution_count": null,
   "metadata": {
    "tags": []
   },
   "outputs": [],
   "source": [
    "print(maxNumberOfBalloons(\"loonbalxballpoon\"))"
   ]
  }
 ]
}