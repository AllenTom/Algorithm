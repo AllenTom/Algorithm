{
 "metadata": {
  "language_info": {
   "codemirror_mode": {
    "name": "ipython",
    "version": 3
   },
   "file_extension": ".py",
   "mimetype": "text/x-python",
   "name": "python",
   "nbconvert_exporter": "python",
   "pygments_lexer": "ipython3",
   "version": "3.8.1-final"
  },
  "orig_nbformat": 2,
  "kernelspec": {
   "name": "python38164bited0cfbe7c3504f05a4d155e3328c3124",
   "display_name": "Python 3.8.1 64-bit"
  }
 },
 "nbformat": 4,
 "nbformat_minor": 2,
 "cells": [
  {
   "cell_type": "markdown",
   "metadata": {},
   "source": [
    "# Find the Minimum Number of Fibonacci Numbers Whose Sum Is K\n",
    "\n",
    "Given the number k, return the minimum number of Fibonacci numbers whose sum is equal to k, whether a Fibonacci number could be used multiple times."
   ]
  },
  {
   "cell_type": "markdown",
   "metadata": {},
   "source": [
    "## 解析\n",
    "题目来源:[LeetCode - Find the Minimum Number of Fibonacci Numbers Whose Sum Is K - 1414](https://leetcode.com/problems/find-the-minimum-number-of-fibonacci-numbers-whose-sum-is-k/)\n",
    "\n",
    "\n",
    "这题没有什么套路，只需要生成斐波那契数列然后使用贪心算法选取相应的数即可。"
   ]
  },
  {
   "cell_type": "code",
   "execution_count": null,
   "metadata": {},
   "outputs": [],
   "source": [
    "def findMinFibonacciNumbers(k):\n",
    "    nums = [1,1]\n",
    "    idx = 1\n",
    "    while nums[idx] < k:\n",
    "        nums.append(nums[idx-1]+nums[idx])\n",
    "        idx +=1\n",
    "    select_count = 0\n",
    "    for select_idx in range(len(nums) - 1,0,-1):\n",
    "        if (nums[select_idx] <= k):\n",
    "            k -= nums[select_idx]\n",
    "            select_count += 1\n",
    "    return select_count"
   ]
  },
  {
   "cell_type": "code",
   "execution_count": null,
   "metadata": {
    "tags": []
   },
   "outputs": [],
   "source": [
    "print(findMinFibonacciNumbers(5050))"
   ]
  }
 ]
}