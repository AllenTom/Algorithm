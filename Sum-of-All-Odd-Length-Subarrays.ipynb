{
 "metadata": {
  "language_info": {
   "codemirror_mode": {
    "name": "ipython",
    "version": 3
   },
   "file_extension": ".py",
   "mimetype": "text/x-python",
   "name": "python",
   "nbconvert_exporter": "python",
   "pygments_lexer": "ipython3",
   "version": "3.7.3-final"
  },
  "orig_nbformat": 2,
  "kernelspec": {
   "name": "python3",
   "display_name": "Python 3"
  }
 },
 "nbformat": 4,
 "nbformat_minor": 2,
 "cells": [
  {
   "source": [
    "# Sum of All Odd Length Subarrays\n",
    "Given an array of positive integers arr, calculate the sum of all possible odd-length subarrays.\n",
    "\n",
    "A subarray is a contiguous subsequence of the array.\n",
    "\n",
    "Return the sum of all odd-length subarrays of arr."
   ],
   "cell_type": "markdown",
   "metadata": {}
  },
  {
   "source": [
    "## 解析\n",
    "\n",
    "题目来源:[LeetCode - Sum of All Odd Length Subarrays - 1588](https://leetcode.com/problems/sum-of-all-odd-length-subarrays/)\n",
    "\n",
    "连续子串和的问题基本上就是`kadane`算法,只不过这是带过滤的算法，选取不同起点遍历答案即可"
   ],
   "cell_type": "markdown",
   "metadata": {}
  },
  {
   "cell_type": "code",
   "execution_count": null,
   "metadata": {},
   "outputs": [],
   "source": [
    "def sumOddLengthSubarrays(arr):\n",
    "    total = 0\n",
    "    for start in range(0,len(arr)):\n",
    "        cur = 0\n",
    "        for end in range(start,len(arr)):\n",
    "            cur += arr[end]\n",
    "            if (end - start + 1) % 2 != 0:\n",
    "                total += cur\n",
    "    return total"
   ]
  },
  {
   "cell_type": "code",
   "execution_count": null,
   "metadata": {},
   "outputs": [],
   "source": [
    "print(sumOddLengthSubarrays([1,4,2,5,3]))"
   ]
  }
 ]
}