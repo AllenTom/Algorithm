{
 "metadata": {
  "language_info": {
   "codemirror_mode": {
    "name": "ipython",
    "version": 3
   },
   "file_extension": ".py",
   "mimetype": "text/x-python",
   "name": "python",
   "nbconvert_exporter": "python",
   "pygments_lexer": "ipython3",
   "version": "3.7.3-final"
  },
  "orig_nbformat": 2,
  "kernelspec": {
   "name": "python3",
   "display_name": "Python 3"
  }
 },
 "nbformat": 4,
 "nbformat_minor": 2,
 "cells": [
  {
   "source": [
    "# Matrix Diagonal Sum\n",
    "Given a square matrix mat, return the sum of the matrix diagonals.\n",
    "\n",
    "Only include the sum of all the elements on the primary diagonal and all the elements on the secondary diagonal that are not part of the primary diagonal.\n",
    "\n",
    "![](https://assets.leetcode.com/uploads/2020/08/14/sample_1911.png)\n"
   ],
   "cell_type": "markdown",
   "metadata": {}
  },
  {
   "source": [
    "## 解析\n",
    "\n",
    "题目来源:[LeetCode - Matrix Diagonal Sum - 1572](https://leetcode.com/problems/matrix-diagonal-sum/)\n",
    "\n",
    "很简单的一题，看似需要二重遍历，实际上纵坐标能从横坐标上算出来，分别是`x`和`len(mat) - x - 1`,最后再处理一下奇数矩阵的中央即可。"
   ],
   "cell_type": "markdown",
   "metadata": {}
  },
  {
   "cell_type": "code",
   "execution_count": null,
   "metadata": {},
   "outputs": [],
   "source": [
    "def diagonalSum(mat):\n",
    "        total = 0\n",
    "        for main in range(0,len(mat)):\n",
    "            total += mat[main][main]\n",
    "            total += mat[main][len(mat) - main - 1]\n",
    "        if len(mat) % 2 != 0:\n",
    "            total -= mat[len(mat)/2][len(mat)/2]\n",
    "        return total"
   ]
  },
  {
   "cell_type": "code",
   "execution_count": null,
   "metadata": {},
   "outputs": [],
   "source": [
    "print(diagonalSum([[1,1,1,1],[1,1,1,1],[1,1,1,1],[1,1,1,1]]))"
   ]
  }
 ]
}