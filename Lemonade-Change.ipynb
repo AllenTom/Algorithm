{
 "metadata": {
  "language_info": {
   "codemirror_mode": {
    "name": "ipython",
    "version": 3
   },
   "file_extension": ".py",
   "mimetype": "text/x-python",
   "name": "python",
   "nbconvert_exporter": "python",
   "pygments_lexer": "ipython3",
   "version": "3.8.1-final"
  },
  "orig_nbformat": 2,
  "kernelspec": {
   "name": "python38164bited0cfbe7c3504f05a4d155e3328c3124",
   "display_name": "Python 3.8.1 64-bit"
  }
 },
 "nbformat": 4,
 "nbformat_minor": 2,
 "cells": [
  {
   "cell_type": "markdown",
   "metadata": {},
   "source": [
    "# Lemonade Change\n",
    "\n",
    "At a lemonade stand, each lemonade costs $5. \n",
    "\n",
    "Customers are standing in a queue to buy from you, and order one at a time (in the order specified by bills).\n",
    "\n",
    "Each customer will only buy one lemonade and pay with either a $5, $10, or $20 bill.  You must provide the correct change to each customer, so that the net transaction is that the customer pays $5.\n",
    "\n",
    "Note that you don't have any change in hand at first.\n",
    "\n",
    "Return true if and only if you can provide every customer with correct change."
   ]
  },
  {
   "cell_type": "markdown",
   "metadata": {},
   "source": [
    "## 解析\n",
    "\n",
    "题目来源:[LeetCode - Lemonade Change - 860](https://leetcode.com/problems/lemonade-change/)\n",
    "\n",
    "贪心算法为本题的主要关键。找钱时每次都尽可能选择面额大的来凑。"
   ]
  },
  {
   "cell_type": "code",
   "execution_count": null,
   "metadata": {},
   "outputs": [],
   "source": [
    "def lemonadeChange(bills):\n",
    "        money = []\n",
    "    \n",
    "        def select(target):\n",
    "            if target == 0:\n",
    "                return True\n",
    "            money.sort(reverse = True)\n",
    "            cur = 0;\n",
    "            while cur < len(money):\n",
    "                option = money[cur]\n",
    "                if (target - option >= 0):\n",
    "                    target -= option\n",
    "                    money.remove(option)\n",
    "                    if (target== 0):\n",
    "                        break\n",
    "                    continue\n",
    "                cur += 1\n",
    "            if target == 0:\n",
    "                    return True\n",
    "            return False\n",
    "\n",
    "        while len(bills) != 0:\n",
    "            pay = bills.pop(0)\n",
    "            can_charge = select(pay - 5)\n",
    "            if not can_charge:\n",
    "                return False\n",
    "            money.append(pay)\n",
    "        return True"
   ]
  },
  {
   "cell_type": "code",
   "execution_count": null,
   "metadata": {
    "tags": []
   },
   "outputs": [],
   "source": [
    "print(lemonadeChange([5,5,5,10,20]))"
   ]
  }
 ]
}