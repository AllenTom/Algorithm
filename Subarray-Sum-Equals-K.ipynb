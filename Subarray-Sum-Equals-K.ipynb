{
 "metadata": {
  "language_info": {
   "codemirror_mode": {
    "name": "ipython",
    "version": 3
   },
   "file_extension": ".py",
   "mimetype": "text/x-python",
   "name": "python",
   "nbconvert_exporter": "python",
   "pygments_lexer": "ipython3",
   "version": "3.8.1-final"
  },
  "orig_nbformat": 2,
  "kernelspec": {
   "name": "python38164bited0cfbe7c3504f05a4d155e3328c3124",
   "display_name": "Python 3.8.1 64-bit"
  }
 },
 "nbformat": 4,
 "nbformat_minor": 2,
 "cells": [
  {
   "cell_type": "markdown",
   "metadata": {},
   "source": [
    "# Subarray Sum Equals K\n",
    "\n",
    "Given an array of integers and an integer k, you need to find the total number of continuous subarrays whose sum equals to k."
   ]
  },
  {
   "cell_type": "markdown",
   "metadata": {},
   "source": [
    "## 解析\n",
    "\n",
    "题目来源:[LeetCode - Subarray Sum Equals K - 560](https://leetcode.com/problems/subarray-sum-equals-k/)\n",
    "\n",
    "首先最简单的方案是暴力穷举，暴力穷举起点和终点并计算和。这种方法时间复杂度非常大。\n",
    "\n",
    "优化一: 因为是连续序列和，可以采用kadane算法，进一步减少时间复杂度，但是仍然较大。详见`subarraySum`\n",
    "\n",
    "优化二：\n",
    "\n",
    "优化一的问题是仍然要穷举终点，所以目标是连终点也一起去除。\n",
    "\n",
    "观察发现`sum(nums[i:j]) = sum(nums[0:i]) - sum(nums[0:j])`\n",
    "\n",
    "例如 `[1,1,1,2]`,`k=2`中：`sum([0,1]) = 1`而`sum(0,3)= 3 ` 于是 `sum([1:3]) = 3 - 1 = 2`\n",
    "\n",
    "即一个保存了`sum`结果的池中寻找，此题不需要提供起点终点，只是简单的计数，于是只需要计数符合某个条件的子串即可。\n",
    "\n",
    "`subarraySum2`方法中，`sum_map` 起到记录`sum([0:i])`的作用，由于题目只需要计数，我们只需要保存计数即可.\n",
    "\n",
    "`sum_value`为`sum([0:j])`,使用kadane算法生成。\n",
    "\n",
    "遍历的过程为:已知`sum([0:j])`和`k`寻找`sum([0:i])`的过程\n",
    "\n",
    "\n"
   ]
  },
  {
   "cell_type": "code",
   "execution_count": null,
   "metadata": {},
   "outputs": [],
   "source": [
    "# LeetCode会超时\n",
    "def subarraySum(nums,k):\n",
    "    count = 0\n",
    "    for start in range(len(nums)):\n",
    "        cur = 0\n",
    "        for end in range(start,len(nums)):\n",
    "            cur += nums[end]\n",
    "            if (cur == k):\n",
    "                count += 1\n",
    "    return count"
   ]
  },
  {
   "cell_type": "code",
   "execution_count": null,
   "metadata": {},
   "outputs": [],
   "source": [
    "def subarraySum2(nums,k):\n",
    "    count  = 0\n",
    "    sum_map = dict()\n",
    "    sum_map[0] = 1\n",
    "    sum_value = 0\n",
    "    for cur in range(0,len(nums)):\n",
    "        sum_value += nums[cur]\n",
    "        if (sum_value - k in sum_map):\n",
    "            count += sum_map[sum_value - k]\n",
    "        if  sum_value not in sum_map:\n",
    "            sum_map[sum_value] = 1\n",
    "        else:\n",
    "            sum_map[sum_value] += 1\n",
    "    return count"
   ]
  },
  {
   "cell_type": "code",
   "execution_count": null,
   "metadata": {
    "tags": []
   },
   "outputs": [],
   "source": [
    "print(subarraySum2([1,1,1,2],2))"
   ]
  }
 ]
}