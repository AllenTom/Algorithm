{
 "metadata": {
  "language_info": {
   "codemirror_mode": {
    "name": "ipython",
    "version": 3
   },
   "file_extension": ".py",
   "mimetype": "text/x-python",
   "name": "python",
   "nbconvert_exporter": "python",
   "pygments_lexer": "ipython3",
   "version": "3.8.1-final"
  },
  "orig_nbformat": 2,
  "kernelspec": {
   "name": "python38164bited0cfbe7c3504f05a4d155e3328c3124",
   "display_name": "Python 3.8.1 64-bit"
  }
 },
 "nbformat": 4,
 "nbformat_minor": 2,
 "cells": [
  {
   "cell_type": "markdown",
   "metadata": {},
   "source": [
    "# Make Two Arrays Equal by Reversing Sub-arrays\n",
    "\n",
    "Given two integer arrays of equal length target and arr.\n",
    "\n",
    "In one step, you can select any non-empty sub-array of arr and reverse it. You are allowed to make any number of steps.\n",
    "\n",
    "Return True if you can make arr equal to target, or False otherwise.\n",
    "\n",
    "\n"
   ]
  },
  {
   "cell_type": "markdown",
   "metadata": {},
   "source": [
    "## 解析\n",
    "先观察arr与target,发现只要是不存在不同的元素，arr => target均可以进行变换。题目就变成了判断两数组的差集是否为空集。\n",
    "\n",
    "\n",
    "ps：不得不说example有一定的诱导性，可能会让你通过example中的方法来写。具体写法会在下文给出。\n"
   ]
  },
  {
   "cell_type": "markdown",
   "metadata": {},
   "source": [
    "## 排序解法\n",
    "\n",
    "将两个数组排序之后进行比较即可。"
   ]
  },
  {
   "cell_type": "code",
   "execution_count": null,
   "metadata": {},
   "outputs": [],
   "source": [
    "def canBeEqual_sort(target, arr):\n",
    "    return sorted(target) == sorted(arr)"
   ]
  },
  {
   "cell_type": "code",
   "execution_count": null,
   "metadata": {},
   "outputs": [],
   "source": [
    "print(canBeEqual_sort([1,2,3,4],[2,4,1,3]))"
   ]
  },
  {
   "cell_type": "markdown",
   "metadata": {},
   "source": [
    "## 旋转判断\n",
    "\n",
    "由于本题目不需要输出旋转的过程，于是有“偷鸡”的办法，下面是给出根据exapmle描述的方法进行。\n",
    "\n",
    "其原理为:\n",
    "- 从未排序的arr子序列出发，搜寻`target[i]`值所在的位置。\n",
    "- 该位置为旋转的上界\n",
    "- 反转序列\n",
    "- 重新组成序列，为:已排序的部分 + 翻转的部分 + 不需要翻转且未排序的部分"
   ]
  },
  {
   "cell_type": "code",
   "execution_count": null,
   "metadata": {},
   "outputs": [],
   "source": [
    "def canBeEqual(target, arr):\n",
    "    for target_idx in range(0,len(target)):\n",
    "        reverse_list = arr[target_idx:]\n",
    "        if target[target_idx] not in reverse_list:\n",
    "            return False\n",
    "        reverse_end = reverse_list.index(target[target_idx])\n",
    "        reverse_list = list(reversed(reverse_list[:reverse_end + 1]))\n",
    "        arr = arr[0:target_idx] + reverse_list + arr[reverse_end + target_idx + 1:len(arr)]\n",
    "    return True"
   ]
  },
  {
   "cell_type": "code",
   "execution_count": null,
   "metadata": {
    "tags": []
   },
   "outputs": [],
   "source": [
    "print(canBeEqual([1,2,3,4],[2,4,1,3]))"
   ]
  }
 ]
}