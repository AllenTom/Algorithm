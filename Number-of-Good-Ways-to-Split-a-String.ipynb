{
 "metadata": {
  "language_info": {
   "codemirror_mode": {
    "name": "ipython",
    "version": 3
   },
   "file_extension": ".py",
   "mimetype": "text/x-python",
   "name": "python",
   "nbconvert_exporter": "python",
   "pygments_lexer": "ipython3",
   "version": "3.8.1-final"
  },
  "orig_nbformat": 2,
  "kernelspec": {
   "name": "python38164bited0cfbe7c3504f05a4d155e3328c3124",
   "display_name": "Python 3.8.1 64-bit"
  }
 },
 "nbformat": 4,
 "nbformat_minor": 2,
 "cells": [
  {
   "cell_type": "markdown",
   "metadata": {},
   "source": [
    "# Number of Good Ways to Split a String\n",
    "\n",
    "You are given a string s, a split is called good if you can split s into 2 non-empty strings p and q where its concatenation is equal to s and the number of distinct letters in p and q are the same.\n",
    "\n",
    "Return the number of good splits you can make in s.\n"
   ]
  },
  {
   "cell_type": "markdown",
   "metadata": {},
   "source": [
    "## 解析\n",
    "\n",
    "题目来源:[LeetCode - Number of Good Ways to Split a String - 1525](https://leetcode.com/problems/number-of-good-ways-to-split-a-string/)\n",
    "\n",
    "如果使用set的方式过滤左右两边的字符，再比较set长度，似乎是很好的办法，但是会消耗巨大的开销。\n",
    "\n",
    "观察整个过程，发现：\n",
    "\n",
    "**左右两边字符数量关系是左增右减**\n",
    "\n",
    "利用这个关系，就不再需要每次都使用set了，直接变换左右两边计数即可。\n"
   ]
  },
  {
   "cell_type": "code",
   "execution_count": null,
   "metadata": {},
   "outputs": [],
   "source": [
    "from collections import Counter\n",
    "def numSplits(s):\n",
    "    count = 0\n",
    "    left_map = Counter()\n",
    "    right_map = Counter(s)\n",
    "    \n",
    "    for c in s:\n",
    "        if c in left_map:\n",
    "            left_map[c] += 1\n",
    "        else:\n",
    "            left_map[c] = 1\n",
    "    \n",
    "        right_map[c] -= 1\n",
    "\n",
    "        if right_map[c] == 0:\n",
    "            right_map.pop(c)\n",
    "    \n",
    "        if len(left_map.keys()) == len(right_map.keys()):\n",
    "            count += 1\n",
    "    return count"
   ]
  },
  {
   "cell_type": "code",
   "execution_count": null,
   "metadata": {
    "tags": []
   },
   "outputs": [],
   "source": [
    "print(numSplits(\"acbadbaada\"))"
   ]
  }
 ]
}