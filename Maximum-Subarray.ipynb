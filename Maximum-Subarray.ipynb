{
 "metadata": {
  "language_info": {
   "codemirror_mode": {
    "name": "ipython",
    "version": 3
   },
   "file_extension": ".py",
   "mimetype": "text/x-python",
   "name": "python",
   "nbconvert_exporter": "python",
   "pygments_lexer": "ipython3",
   "version": "3.8.1-final"
  },
  "orig_nbformat": 2,
  "kernelspec": {
   "name": "python38164bited0cfbe7c3504f05a4d155e3328c3124",
   "display_name": "Python 3.8.1 64-bit"
  }
 },
 "nbformat": 4,
 "nbformat_minor": 2,
 "cells": [
  {
   "cell_type": "markdown",
   "metadata": {},
   "source": [
    "# Maximum Subarray\n",
    "\n"
   ]
  },
  {
   "cell_type": "markdown",
   "metadata": {},
   "source": [
    "Given an integer array nums, find the contiguous subarray (containing at least one number) which has the largest sum and return its sum."
   ]
  },
  {
   "cell_type": "markdown",
   "metadata": {},
   "source": [
    "## 备注\n",
    "题目似乎是暗示着我们只需要简单的暴力枚举所有的字串并判断，虽然是一种简明易得的方法，但是有一个致命的缺陷：在给定的序列过大时会消耗大量的时间，如果在leetcode上则会因为超时不予通过。\n"
   ]
  },
  {
   "cell_type": "markdown",
   "metadata": {},
   "source": [
    "### 暴力枚举\n",
    "很简单易懂，但是效率极差,达到了`O(n^2)`"
   ]
  },
  {
   "cell_type": "code",
   "execution_count": null,
   "metadata": {},
   "outputs": [],
   "source": [
    "def maxSubArray_force(nums):\n",
    "    max_value = nums[0]\n",
    "    for start_idx in range(0,len(nums)):\n",
    "        sum_value = 0\n",
    "        for idx in range(start_idx,len(nums)):\n",
    "            sum_value += nums[idx]\n",
    "            if sum_value > max_value:\n",
    "                max_value = sum_value\n",
    "    return max_value"
   ]
  },
  {
   "cell_type": "code",
   "execution_count": null,
   "metadata": {
    "tags": []
   },
   "outputs": [],
   "source": [
    "# 测试\n",
    "print(maxSubArray_force([-2,1,-3,4,-1,2,1,-5,4]))"
   ]
  },
  {
   "cell_type": "markdown",
   "metadata": {},
   "source": [
    "##  kadane算法\n",
    "由于无法使用暴力穷举的方式，则需要变换策略。kadane算法则是比较优秀的解法之一，其核心是动态规划。"
   ]
  },
  {
   "cell_type": "code",
   "execution_count": null,
   "metadata": {},
   "outputs": [],
   "source": [
    "def maxSubArray_kadane(nums):\n",
    "    max_sum = nums[0]\n",
    "    cur = nums[0]\n",
    "    for idx in range(1,len(nums)):\n",
    "        cur = max(cur + nums[idx],nums[idx])\n",
    "        if (cur > max_sum):\n",
    "            max_sum = cur\n",
    "    return max_sum"
   ]
  },
  {
   "cell_type": "code",
   "execution_count": null,
   "metadata": {
    "tags": []
   },
   "outputs": [],
   "source": [
    "print(maxSubArray_kadane([-2,1,-3,4,-1,2,1,-5,4]))"
   ]
  }
 ]
}