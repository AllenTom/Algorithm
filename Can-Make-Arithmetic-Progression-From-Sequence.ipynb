{
 "metadata": {
  "language_info": {
   "codemirror_mode": {
    "name": "ipython",
    "version": 3
   },
   "file_extension": ".py",
   "mimetype": "text/x-python",
   "name": "python",
   "nbconvert_exporter": "python",
   "pygments_lexer": "ipython3",
   "version": "3.8.1-final"
  },
  "orig_nbformat": 2,
  "kernelspec": {
   "name": "python38164bited0cfbe7c3504f05a4d155e3328c3124",
   "display_name": "Python 3.8.1 64-bit"
  }
 },
 "nbformat": 4,
 "nbformat_minor": 2,
 "cells": [
  {
   "cell_type": "markdown",
   "metadata": {},
   "source": [
    "# Can Make Arithmetic Progression From Sequence\n",
    "\n",
    "Given an array of numbers arr. A sequence of numbers is called an arithmetic progression if the difference between any two consecutive elements is the same.\n",
    "\n",
    "Return true if the array can be rearranged to form an arithmetic progression, otherwise, return false.\n",
    "\n",
    "\n"
   ]
  },
  {
   "cell_type": "markdown",
   "metadata": {},
   "source": [
    "题目来源:[LeetCode - 1502 - Can Make Arithmetic Progression From Sequence](https://leetcode.com/problems/can-make-arithmetic-progression-from-sequence/)"
   ]
  },
  {
   "cell_type": "markdown",
   "metadata": {},
   "source": [
    "## 解析\n",
    "按照题意，判断是否为等差数列(允许重排序)，只需要将数组进行重新排序并且判断每一项与前项是否符合规律即可。"
   ]
  },
  {
   "cell_type": "markdown",
   "metadata": {},
   "source": [
    "### 排序后遍历"
   ]
  },
  {
   "cell_type": "code",
   "execution_count": null,
   "metadata": {},
   "outputs": [],
   "source": [
    "def canMakeArithmeticProgression(arr):\n",
    "    sort_arr = sorted(arr)\n",
    "    diff = sort_arr[1] - sort_arr[0]\n",
    "    for idx in range(1,len(sort_arr) - 1):\n",
    "        if (sort_arr[idx] + diff != sort_arr[idx + 1]):\n",
    "            return False\n",
    "    return True"
   ]
  },
  {
   "cell_type": "code",
   "execution_count": null,
   "metadata": {
    "tags": []
   },
   "outputs": [],
   "source": [
    "print(canMakeArithmeticProgression([3,5,1]))"
   ]
  },
  {
   "cell_type": "markdown",
   "metadata": {},
   "source": [
    "### 非排序\n",
    "本质上和排序后遍历没有太大的差别，左右两数之间从相邻位置选取变成了取出最小和第二小的元素。"
   ]
  },
  {
   "cell_type": "code",
   "execution_count": 4,
   "metadata": {},
   "outputs": [],
   "source": [
    "def canMakeArithmeticProgression2(arr):\n",
    "    diff  = None\n",
    "    left  = min(arr)\n",
    "    arr.remove(left)\n",
    "    while len(arr) > 0:\n",
    "        right = min(arr)\n",
    "        arr.remove(right)\n",
    "        if (diff == None):\n",
    "            diff = right - left\n",
    "        else:\n",
    "            if (diff != right - left):\n",
    "                return False\n",
    "        left = right\n",
    "    return True"
   ]
  },
  {
   "cell_type": "code",
   "execution_count": null,
   "metadata": {},
   "outputs": [],
   "source": [
    "print(canMakeArithmeticProgression2([3,5,1]))"
   ]
  }
 ]
}