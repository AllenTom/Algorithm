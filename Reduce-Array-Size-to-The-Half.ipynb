{
 "metadata": {
  "language_info": {
   "codemirror_mode": {
    "name": "ipython",
    "version": 3
   },
   "file_extension": ".py",
   "mimetype": "text/x-python",
   "name": "python",
   "nbconvert_exporter": "python",
   "pygments_lexer": "ipython3",
   "version": "3.8.1-final"
  },
  "orig_nbformat": 2,
  "kernelspec": {
   "name": "python38164bited0cfbe7c3504f05a4d155e3328c3124",
   "display_name": "Python 3.8.1 64-bit"
  }
 },
 "nbformat": 4,
 "nbformat_minor": 2,
 "cells": [
  {
   "cell_type": "markdown",
   "metadata": {},
   "source": [
    "# Reduce Array Size to The Half\n",
    "\n",
    "Given an array arr.  You can choose a set of integers and remove all the occurrences of these integers in the array.\n",
    "\n",
    "Return the minimum size of the set so that at least half of the integers of the array are removed.\n"
   ]
  },
  {
   "cell_type": "markdown",
   "metadata": {},
   "source": [
    "## 解析\n",
    "\n",
    "题目来源:[LeetCode - Reduce Array Size to The Half - 1338](https://leetcode.com/problems/reduce-array-size-to-the-half/)\n",
    "\n",
    "此题比较简单，先对元素进行计数，然后用贪心算法，每次取出出现次数最多的数字，直到达到原数组长度的一半为止。"
   ]
  },
  {
   "cell_type": "code",
   "execution_count": null,
   "metadata": {},
   "outputs": [],
   "source": [
    "def minSetSize(arr):\n",
    "    count_map = {}\n",
    "    for num in arr:\n",
    "        if num not in count_map:\n",
    "            count_map[num] = 1\n",
    "        else:\n",
    "            count_map[num] += 1\n",
    "    count = sorted(list(count_map.values()),reverse=True)\n",
    "    select_count = 0\n",
    "    select_sum = 0\n",
    "    for i in count:\n",
    "        select_sum += i\n",
    "        select_count += 1\n",
    "        if len(arr) - select_sum <= len(arr) / 2:\n",
    "            break\n",
    "    return select_count\n",
    "            "
   ]
  },
  {
   "cell_type": "code",
   "execution_count": null,
   "metadata": {},
   "outputs": [],
   "source": [
    "print(minSetSize([3,3,3,3,5,5,5,2,2,7]))"
   ]
  }
 ]
}