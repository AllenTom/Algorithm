{
 "metadata": {
  "language_info": {
   "codemirror_mode": {
    "name": "ipython",
    "version": 3
   },
   "file_extension": ".py",
   "mimetype": "text/x-python",
   "name": "python",
   "nbconvert_exporter": "python",
   "pygments_lexer": "ipython3",
   "version": "3.8.1-final"
  },
  "orig_nbformat": 2,
  "kernelspec": {
   "name": "python38164bited0cfbe7c3504f05a4d155e3328c3124",
   "display_name": "Python 3.8.1 64-bit"
  }
 },
 "nbformat": 4,
 "nbformat_minor": 2,
 "cells": [
  {
   "cell_type": "markdown",
   "metadata": {},
   "source": [
    "# Shuffle the Array\n",
    "\n",
    "Given the array nums consisting of 2n elements in the form `[x1,x2,...,xn,y1,y2,...,yn]`.\n",
    "\n",
    "Return the array in the form `[x1,y1,x2,y2,...,xn,yn]`.\n",
    "\n"
   ]
  },
  {
   "cell_type": "markdown",
   "metadata": {},
   "source": [
    "## 解析\n",
    "题目来源:[LeetCode - Shuffle the Array - 1470](https://leetcode.com/problems/shuffle-the-array/)\n",
    "\n",
    "基本思想就是取指定的元素插入到新的序列中即可，非常简单"
   ]
  },
  {
   "cell_type": "code",
   "execution_count": null,
   "metadata": {},
   "outputs": [],
   "source": [
    "def shuffle2(nums, n):\n",
    "    result = []\n",
    "    for idx in range(0,n):\n",
    "        result.append(nums[idx])\n",
    "        result.append(nums[idx + n])\n",
    "    return result"
   ]
  },
  {
   "cell_type": "code",
   "execution_count": null,
   "metadata": {
    "tags": []
   },
   "outputs": [],
   "source": [
    "print(shuffle2([2,5,1,3,4,7],3))"
   ]
  },
  {
   "cell_type": "markdown",
   "metadata": {},
   "source": [
    "## 一行\n",
    "利用 python 语言特性，结合zip方法可以实现一行解决问题"
   ]
  },
  {
   "cell_type": "code",
   "execution_count": null,
   "metadata": {},
   "outputs": [],
   "source": [
    "def shuffle(nums, n):\n",
    "    return [e for l in zip(nums[0:n],nums[n:]) for e in l]"
   ]
  },
  {
   "cell_type": "code",
   "execution_count": null,
   "metadata": {
    "tags": []
   },
   "outputs": [],
   "source": [
    "print(shuffle([2,5,1,3,4,7],3))"
   ]
  }
 ]
}