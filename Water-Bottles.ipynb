{
 "metadata": {
  "language_info": {
   "codemirror_mode": {
    "name": "ipython",
    "version": 3
   },
   "file_extension": ".py",
   "mimetype": "text/x-python",
   "name": "python",
   "nbconvert_exporter": "python",
   "pygments_lexer": "ipython3",
   "version": "3.8.1-final"
  },
  "orig_nbformat": 2,
  "kernelspec": {
   "name": "python38164bited0cfbe7c3504f05a4d155e3328c3124",
   "display_name": "Python 3.8.1 64-bit"
  }
 },
 "nbformat": 4,
 "nbformat_minor": 2,
 "cells": [
  {
   "cell_type": "markdown",
   "metadata": {},
   "source": [
    "# Water Bottles\n",
    "\n",
    "Given numBottles full water bottles, you can exchange numExchange empty water bottles for one full water bottle.\n",
    "\n",
    "The operation of drinking a full water bottle turns it into an empty bottle.\n",
    "\n",
    "Return the maximum number of water bottles you can drink."
   ]
  },
  {
   "cell_type": "markdown",
   "metadata": {},
   "source": [
    "## 解析\n",
    "\n",
    "题目来源:[LeetCode - Water Bottles - 1518](https://leetcode.com/problems/water-bottles/)\n",
    "\n",
    "经典的瓶子换饮料问题。使用贪心算法，贪心在于：\n",
    "\n",
    "每一轮都尽可能的换取更多的饮料"
   ]
  },
  {
   "cell_type": "code",
   "execution_count": null,
   "metadata": {},
   "outputs": [],
   "source": [
    " def numWaterBottles(numBottles, numExchange):\n",
    "        count = numBottles\n",
    "        while numBottles >= numExchange:\n",
    "            exchange = int(numBottles / numExchange)\n",
    "            remain = numBottles - exchange * numExchange\n",
    "            count += exchange\n",
    "            numBottles = exchange + remain\n",
    "\n",
    "\n",
    "        return count "
   ]
  },
  {
   "cell_type": "code",
   "execution_count": null,
   "metadata": {
    "tags": []
   },
   "outputs": [],
   "source": [
    "print(numWaterBottles(9,3))"
   ]
  }
 ]
}