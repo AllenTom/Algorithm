{
 "metadata": {
  "language_info": {
   "codemirror_mode": {
    "name": "ipython",
    "version": 3
   },
   "file_extension": ".py",
   "mimetype": "text/x-python",
   "name": "python",
   "nbconvert_exporter": "python",
   "pygments_lexer": "ipython3",
   "version": "3.8.1-final"
  },
  "orig_nbformat": 2,
  "kernelspec": {
   "name": "python38164bited0cfbe7c3504f05a4d155e3328c3124",
   "display_name": "Python 3.8.1 64-bit"
  }
 },
 "nbformat": 4,
 "nbformat_minor": 2,
 "cells": [
  {
   "cell_type": "markdown",
   "metadata": {},
   "source": [
    "# Univalued Binary Tree\n",
    "\n",
    "A binary tree is univalued if every node in the tree has the same value.\n",
    "\n",
    "Return true if and only if the given tree is univalued.\n"
   ]
  },
  {
   "cell_type": "markdown",
   "metadata": {},
   "source": [
    "## 解析\n",
    "\n",
    "题目来源:[LeetCode - Univalued Binary Tree - 965](https://leetcode.com/problems/univalued-binary-tree/)\n",
    "\n",
    "非常简单的一题，在遍历的基础上加上条件判断即可"
   ]
  },
  {
   "cell_type": "code",
   "execution_count": null,
   "metadata": {},
   "outputs": [],
   "source": [
    "class TreeNode:\n",
    "    def __init__(self, val=0, left=None, right=None):\n",
    "        self.val = val\n",
    "        self.left = left\n",
    "        self.right = right\n",
    "\n",
    "def createtree(l):\n",
    "    if l[0]:\n",
    "        root=TreeNode(l[0])\n",
    "        nodes=[root]\n",
    "        id=1\n",
    "        while nodes and id<len(l):\n",
    "            node=nodes[0]\n",
    "            node.left=TreeNode(l[id]) if l[id] else None\n",
    "            nodes.append(node.left)\n",
    "            node.right=TreeNode(l[id+1]) if id<len(l)-1 and l[id+1] else None\n",
    "            nodes.append(node.right)\n",
    "            id+=2\n",
    "            nodes.pop(0)\n",
    "        return root\n",
    "    else:\n",
    "        return None\n",
    "\n",
    "arr = [2,2,2,5,2]\n",
    "root = createtree(arr)"
   ]
  },
  {
   "cell_type": "code",
   "execution_count": null,
   "metadata": {},
   "outputs": [],
   "source": [
    " def isUnivalTree(root):\n",
    "        value = None\n",
    "        flag = True\n",
    "        def walk(node):\n",
    "            nonlocal flag,value\n",
    "            if not flag:\n",
    "                return\n",
    "            if node is None:\n",
    "                return\n",
    "            if value is None:\n",
    "                value = node.val\n",
    "            else:\n",
    "                if node.val != value:\n",
    "                    flag = False\n",
    "            \n",
    "            walk(node.left)\n",
    "            walk(node.right)\n",
    "        walk(root)\n",
    "        return flag"
   ]
  },
  {
   "cell_type": "code",
   "execution_count": null,
   "metadata": {
    "tags": []
   },
   "outputs": [],
   "source": [
    "print(isUnivalTree(root))"
   ]
  }
 ]
}