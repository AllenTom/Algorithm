{
 "metadata": {
  "language_info": {
   "codemirror_mode": {
    "name": "ipython",
    "version": 3
   },
   "file_extension": ".py",
   "mimetype": "text/x-python",
   "name": "python",
   "nbconvert_exporter": "python",
   "pygments_lexer": "ipython3",
   "version": "3.8.1-final"
  },
  "orig_nbformat": 2,
  "kernelspec": {
   "name": "python38164bited0cfbe7c3504f05a4d155e3328c3124",
   "display_name": "Python 3.8.1 64-bit"
  }
 },
 "nbformat": 4,
 "nbformat_minor": 2,
 "cells": [
  {
   "cell_type": "markdown",
   "metadata": {},
   "source": [
    "# String Matching in an Array\n",
    "\n",
    "Given an array of string words. Return all strings in words which is substring of another word in any order. \n",
    "\n",
    "String `words[i]` is substring of `words[j]`, if can be obtained removing some characters to left and/or right side of `words[j]`."
   ]
  },
  {
   "cell_type": "markdown",
   "metadata": {},
   "source": [
    "## 解析\n",
    "\n",
    "题目来源:[LeetCode - String Matching in an Array - 1408](https://leetcode.com/problems/string-matching-in-an-array/)\n",
    "\n",
    "非常简单，基本的解法就是看图写话即可\n"
   ]
  },
  {
   "cell_type": "code",
   "execution_count": null,
   "metadata": {},
   "outputs": [],
   "source": [
    "def stringMatching(words):\n",
    "    result = []\n",
    "    for word_cur in range(len(words)):\n",
    "        for target_cur  in range(word_cur + 1,len(words)):\n",
    "            if (words[word_cur] in words[target_cur] and words[word_cur] not in result):\n",
    "                result.append(words[word_cur])\n",
    "            elif (words[target_cur] in words[word_cur] and words[target_cur] not in result):\n",
    "                result.append(words[target_cur])\n",
    "    return result"
   ]
  },
  {
   "cell_type": "code",
   "execution_count": null,
   "metadata": {
    "tags": []
   },
   "outputs": [],
   "source": [
    "print(stringMatching([\"mass\",\"as\",\"hero\",\"superhero\"]))"
   ]
  }
 ]
}