{
 "metadata": {
  "language_info": {
   "codemirror_mode": {
    "name": "ipython",
    "version": 3
   },
   "file_extension": ".py",
   "mimetype": "text/x-python",
   "name": "python",
   "nbconvert_exporter": "python",
   "pygments_lexer": "ipython3",
   "version": 3
  },
  "orig_nbformat": 2
 },
 "nbformat": 4,
 "nbformat_minor": 2,
 "cells": [
  {
   "cell_type": "markdown",
   "metadata": {},
   "source": [
    "# N-ary Tree Preorder Traversal\n",
    "\n",
    "Given an n-ary tree, return the preorder traversal of its nodes' values.\n",
    "\n",
    "Nary-Tree input serialization is represented in their level order traversal, each group of children is separated by the null value (See examples).\n"
   ]
  },
  {
   "cell_type": "markdown",
   "metadata": {},
   "source": [
    "## 解析\n",
    "\n",
    "题目来源:[LeetCode - N-ary Tree Preorder Traversal - 589](https://leetcode.com/problems/n-ary-tree-preorder-traversal/)\n",
    "\n",
    "题目非常简单，和二叉树前序遍历是一样的，只不过子节点变成多个。"
   ]
  },
  {
   "cell_type": "code",
   "execution_count": null,
   "metadata": {},
   "outputs": [],
   "source": [
    "def preorder(root):\n",
    "        result = []\n",
    "        def walk(node):\n",
    "            nonlocal result\n",
    "            if node is None:\n",
    "                return;\n",
    "            result.append(node.val)\n",
    "            for child in node.children:\n",
    "                walk(child)\n",
    "        walk(root)\n",
    "        return result"
   ]
  }
 ]
}