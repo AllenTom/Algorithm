{
 "metadata": {
  "language_info": {
   "codemirror_mode": {
    "name": "ipython",
    "version": 3
   },
   "file_extension": ".py",
   "mimetype": "text/x-python",
   "name": "python",
   "nbconvert_exporter": "python",
   "pygments_lexer": "ipython3",
   "version": "3.8.1-final"
  },
  "orig_nbformat": 2,
  "kernelspec": {
   "name": "python38164bited0cfbe7c3504f05a4d155e3328c3124",
   "display_name": "Python 3.8.1 64-bit"
  }
 },
 "nbformat": 4,
 "nbformat_minor": 2,
 "cells": [
  {
   "cell_type": "markdown",
   "metadata": {},
   "source": [
    "# Find and Replace Pattern\n",
    "\n",
    "You have a list of words and a pattern, and you want to know which words in words matches the pattern.\n",
    "\n",
    "A word matches the pattern if there exists a permutation of letters p so that after replacing every letter x in the pattern with p(x), we get the desired word.\n",
    "\n",
    "(Recall that a permutation of letters is a bijection from letters to letters: every letter maps to another letter, and no two letters map to the same letter.)\n",
    "\n",
    "Return a list of the words in words that match the given pattern. \n",
    "\n",
    "You may return the answer in any order."
   ]
  },
  {
   "cell_type": "markdown",
   "metadata": {},
   "source": [
    "## 解析\n",
    "\n",
    "题目来源:[LeetCode - Find and Replace Pattern - 890](https://leetcode.com/problems/find-and-replace-pattern/)\n",
    "\n",
    "这题思路很多，下面的方式采用HashMap将word映射至pattern中，再根据pattern重建字符串进行比较。"
   ]
  },
  {
   "cell_type": "code",
   "execution_count": null,
   "metadata": {},
   "outputs": [],
   "source": [
    "def findAndReplacePattern(words, pattern):\n",
    "    result = []\n",
    "    for word in words:\n",
    "        pattern_map = {}\n",
    "        p_index = 0\n",
    "        while p_index < len(pattern):\n",
    "            if pattern[p_index] not in pattern_map and word[p_index] not in list(pattern_map.values()):\n",
    "                pattern_map[pattern[p_index]] = word[p_index]\n",
    "            else:\n",
    "                if pattern[p_index] in pattern_map and pattern_map[pattern[p_index]] != word[p_index]:\n",
    "                    break;\n",
    "            p_index += 1\n",
    "        \n",
    "        match_str = \"\"\n",
    "        for pattern_mark in pattern:\n",
    "            if pattern_mark in pattern_map:\n",
    "                match_str += pattern_map[pattern_mark]\n",
    "        if match_str == word:\n",
    "            result.append(word)\n",
    "            \n",
    "    return result"
   ]
  },
  {
   "cell_type": "code",
   "execution_count": null,
   "metadata": {
    "tags": []
   },
   "outputs": [],
   "source": [
    "print(findAndReplacePattern([\"abc\",\"deq\",\"mee\",\"aqq\",\"dkd\",\"ccc\"],\"abb\"))"
   ]
  }
 ]
}