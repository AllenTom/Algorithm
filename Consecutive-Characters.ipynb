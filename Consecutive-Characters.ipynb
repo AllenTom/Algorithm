{
 "metadata": {
  "language_info": {
   "codemirror_mode": {
    "name": "ipython",
    "version": 3
   },
   "file_extension": ".py",
   "mimetype": "text/x-python",
   "name": "python",
   "nbconvert_exporter": "python",
   "pygments_lexer": "ipython3",
   "version": "3.8.1-final"
  },
  "orig_nbformat": 2,
  "kernelspec": {
   "name": "python38164bited0cfbe7c3504f05a4d155e3328c3124",
   "display_name": "Python 3.8.1 64-bit"
  }
 },
 "nbformat": 4,
 "nbformat_minor": 2,
 "cells": [
  {
   "cell_type": "markdown",
   "metadata": {},
   "source": [
    "# Consecutive Characters\n",
    "\n",
    "Given a string s, the power of the string is the maximum length of a non-empty substring that contains only one unique character.\n",
    "\n",
    "Return the power of the string."
   ]
  },
  {
   "cell_type": "markdown",
   "metadata": {},
   "source": [
    "## 解析\n",
    "\n",
    "题目来源:[LeetCode - Consecutive Characters - 1446](https://leetcode.com/problems/consecutive-characters/)\n",
    "\n",
    "非常简单的解法，注意起始下标的变换即可，复杂度为O(n)\n"
   ]
  },
  {
   "cell_type": "code",
   "execution_count": null,
   "metadata": {},
   "outputs": [],
   "source": [
    "def maxPower(s):\n",
    "        start_cur = 0\n",
    "        if len(s) == \"\":\n",
    "            return 0\n",
    "        max_length = 1\n",
    "        for cur in range(1,len(s)):\n",
    "            if (s[cur - 1] != s[cur]):\n",
    "                start_cur = cur\n",
    "            max_length = max(max_length, cur + 1 - start_cur)\n",
    "        return max_length"
   ]
  },
  {
   "cell_type": "code",
   "execution_count": null,
   "metadata": {
    "tags": []
   },
   "outputs": [],
   "source": [
    "print(maxPower(\"leetcode\"))"
   ]
  }
 ]
}