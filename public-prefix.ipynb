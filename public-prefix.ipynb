{
 "metadata": {
  "language_info": {
   "codemirror_mode": {
    "name": "ipython",
    "version": 3
   },
   "file_extension": ".py",
   "mimetype": "text/x-python",
   "name": "python",
   "nbconvert_exporter": "python",
   "pygments_lexer": "ipython3",
   "version": "3.8.1-final"
  },
  "orig_nbformat": 2,
  "kernelspec": {
   "name": "python38164bited0cfbe7c3504f05a4d155e3328c3124",
   "language": "python",
   "display_name": "Python 3.8.1 64-bit"
  }
 },
 "nbformat": 4,
 "nbformat_minor": 2,
 "cells": [
  {
   "cell_type": "markdown",
   "metadata": {},
   "source": [
    "# 最大公共前缀"
   ]
  },
  {
   "cell_type": "markdown",
   "metadata": {},
   "source": [
    "[LeetCode - 14 Longest Common Prefix](https://leetcode.com/problems/longest-common-prefix/) \n",
    "  \n",
    "Write a function to find the longest common prefix string amongst an array of strings.\n",
    "\n",
    "If there is no common prefix, return an empty string \"\""
   ]
  },
  {
   "cell_type": "markdown",
   "metadata": {},
   "source": [
    "解法来源:[小浩算法 - 最长公共前缀](https://www.geekxh.com/1.0.%E6%95%B0%E7%BB%84%E7%B3%BB%E5%88%97/002.html)"
   ]
  },
  {
   "cell_type": "code",
   "execution_count": null,
   "metadata": {
    "pycharm": {
     "is_executing": true
    }
   },
   "outputs": [],
   "source": [
    "input_strs = [\"what\",\"where\",\"who\"]"
   ]
  },
  {
   "cell_type": "code",
   "execution_count": null,
   "metadata": {
    "pycharm": {
     "is_executing": true
    }
   },
   "outputs": [],
   "source": [
    "def sol(strs):\n",
    "    if len(strs) < 1:\n",
    "        return \"\"\n",
    "    prefix =  strs[0]\n",
    "    # 便利所有的字符串\n",
    "    for text in strs:\n",
    "        # 直到与prefix的公共字符串\n",
    "        while prefix not in text:\n",
    "            if len(text) == 0:\n",
    "                return \"\"\n",
    "            # 从后至前依次删除prefix字符\n",
    "            prefix = prefix[:len(prefix) - 1]\n",
    "\n",
    "    return prefix\n"
   ]
  },
  {
   "cell_type": "code",
   "execution_count": null,
   "metadata": {},
   "outputs": [],
   "source": [
    "def sol_with_comment(strs):\n",
    "    if len(strs) < 1:\n",
    "        return \"\"\n",
    "    prefix =  strs[0]\n",
    "    print(f\"以第一个 [{prefix}] 字符串作为起始前缀\")\n",
    "    for text in strs:\n",
    "        print(f\"\\n ------------ 匹配字符串 [{text}] --------------\\n\")\n",
    "        while prefix not in text:\n",
    "            print(f\"未找到prefix = [{prefix}] 在 [{text}]中\")\n",
    "            if len(text) == 0:\n",
    "                return \"\"\n",
    "            prefix = prefix[:len(prefix) - 1]\n",
    "        print(f\"找到公共prefix = [{prefix}] 在当前字符串[{text}]中\")\n",
    "\n",
    "    return prefix"
   ]
  },
  {
   "cell_type": "code",
   "execution_count": null,
   "metadata": {
    "pycharm": {
     "is_executing": true
    },
    "tags": []
   },
   "outputs": [],
   "source": [
    "print(\"result:\")\n",
    "print(sol_with_comment(input_strs))"
   ]
  }
 ]
}