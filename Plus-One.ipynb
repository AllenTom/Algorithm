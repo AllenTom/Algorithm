{
 "metadata": {
  "language_info": {
   "codemirror_mode": {
    "name": "ipython",
    "version": 3
   },
   "file_extension": ".py",
   "mimetype": "text/x-python",
   "name": "python",
   "nbconvert_exporter": "python",
   "pygments_lexer": "ipython3",
   "version": "3.8.1-final"
  },
  "orig_nbformat": 2,
  "kernelspec": {
   "name": "python38164bited0cfbe7c3504f05a4d155e3328c3124",
   "display_name": "Python 3.8.1 64-bit"
  }
 },
 "nbformat": 4,
 "nbformat_minor": 2,
 "cells": [
  {
   "cell_type": "markdown",
   "metadata": {},
   "source": [
    "# Plus One\n",
    "\n",
    "Given a non-empty array of digits representing a non-negative integer, increment one to the integer.\n",
    "\n",
    "The digits are stored such that the most significant digit is at the head of the list, and each element in the array contains a single digit.\n",
    "\n",
    "You may assume the integer does not contain any leading zero, except the number 0 itself.\n"
   ]
  },
  {
   "cell_type": "markdown",
   "metadata": {},
   "source": [
    "## 解析\n",
    "题目来源:[LeetCode - Plus One - 66](https://leetcode.com/problems/plus-one/)\n",
    "\n",
    "题目非常简单，处理好进位的情况就好，类似于计算机组成原理`CU`加法运算的步骤"
   ]
  },
  {
   "cell_type": "code",
   "execution_count": null,
   "metadata": {},
   "outputs": [],
   "source": [
    "def plusOne(digits):\n",
    "    idx = len(digits) - 1\n",
    "    add = True\n",
    "    while idx > -1:\n",
    "        if (add == True):\n",
    "            value = digits[idx] + 1\n",
    "            if value >= 10:\n",
    "                value -= 10\n",
    "                add = True\n",
    "            else:\n",
    "                add = False\n",
    "            digits[idx] = value\n",
    "        if idx == 0 and add:\n",
    "            digits.insert(0,1)\n",
    "        idx -= 1\n",
    "    return digits"
   ]
  },
  {
   "cell_type": "code",
   "execution_count": null,
   "metadata": {
    "tags": []
   },
   "outputs": [],
   "source": [
    "print(plusOne([9,9,9,9,9,9,9,9,9,9]))"
   ]
  }
 ]
}