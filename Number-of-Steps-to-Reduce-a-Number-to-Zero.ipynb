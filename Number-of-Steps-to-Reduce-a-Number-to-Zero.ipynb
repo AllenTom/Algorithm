{
 "metadata": {
  "language_info": {
   "codemirror_mode": {
    "name": "ipython",
    "version": 3
   },
   "file_extension": ".py",
   "mimetype": "text/x-python",
   "name": "python",
   "nbconvert_exporter": "python",
   "pygments_lexer": "ipython3",
   "version": 3
  },
  "orig_nbformat": 2
 },
 "nbformat": 4,
 "nbformat_minor": 2,
 "cells": [
  {
   "cell_type": "markdown",
   "metadata": {},
   "source": [
    "# Number of Steps to Reduce a Number to Zero\n",
    "\n",
    "Given a non-negative integer num, return the number of steps to reduce it to zero. If the current number is even, you have to divide it by 2, otherwise, you have to subtract 1 from it."
   ]
  },
  {
   "cell_type": "markdown",
   "metadata": {},
   "source": [
    "## 解析\n",
    "\n",
    "题目来源:[LeetCode - Number of Steps to Reduce a Number to Zero - 1342](https://leetcode.com/problems/number-of-steps-to-reduce-a-number-to-zero/)\n",
    "\n",
    "非常简单的一题，看图写话"
   ]
  },
  {
   "cell_type": "code",
   "execution_count": null,
   "metadata": {},
   "outputs": [],
   "source": [
    "def numberOfSteps (num):\n",
    "    count = 0\n",
    "    while num != 0:\n",
    "        count += 1\n",
    "        if num % 2 > 0:\n",
    "            num -= 1\n",
    "        else:     \n",
    "            num /= 2\n",
    "            print(num)\n",
    "    return count\n"
   ]
  },
  {
   "cell_type": "code",
   "execution_count": null,
   "metadata": {},
   "outputs": [],
   "source": [
    "print(numberOfSteps(8))"
   ]
  }
 ]
}