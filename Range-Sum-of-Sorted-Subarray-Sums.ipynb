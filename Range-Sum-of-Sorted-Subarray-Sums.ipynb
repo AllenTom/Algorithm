{
 "metadata": {
  "language_info": {
   "codemirror_mode": {
    "name": "ipython",
    "version": 3
   },
   "file_extension": ".py",
   "mimetype": "text/x-python",
   "name": "python",
   "nbconvert_exporter": "python",
   "pygments_lexer": "ipython3",
   "version": "3.8.1-final"
  },
  "orig_nbformat": 2,
  "kernelspec": {
   "name": "python38164bited0cfbe7c3504f05a4d155e3328c3124",
   "display_name": "Python 3.8.1 64-bit"
  }
 },
 "nbformat": 4,
 "nbformat_minor": 2,
 "cells": [
  {
   "cell_type": "markdown",
   "metadata": {},
   "source": [
    "# Range Sum of Sorted Subarray Sums\n",
    "\n",
    "Given the array nums consisting of n positive integers. You computed the sum of all non-empty continous subarrays from the array and then sort them in non-decreasing order, creating a new array of `n * (n + 1) / 2` numbers.\n",
    "\n",
    "Return the sum of the numbers from index left to index right (indexed from 1), inclusive, in the new array. Since the answer can be a huge number return it modulo `10^9 + 7`.\n"
   ]
  },
  {
   "cell_type": "markdown",
   "metadata": {},
   "source": [
    "## 解析\n",
    "题目来源:[LeetCode - Range Sum of Sorted Subarray Sums - 1508]\n",
    "\n",
    "此题没有多少套路，基本上按照描述的进行即可，要注意生成子串的时候，使用kadane算法，以减少时间复杂度"
   ]
  },
  {
   "cell_type": "code",
   "execution_count": 2,
   "metadata": {},
   "outputs": [],
   "source": [
    "def rangeSum(nums, n, left, right):\n",
    "    sum_result = []\n",
    "    for idx in range(0,len(nums)):\n",
    "        cur = nums[idx]\n",
    "        result = [cur]\n",
    "        for child_idx in range(idx + 1,len(nums)):\n",
    "            cur += nums[child_idx]\n",
    "            result.append(cur)\n",
    "        sum_result.append(result)\n",
    "    sum_result = sorted([j for i in sum_result for j in i])\n",
    "    return sum(sum_result[left - 1:right])%(10**9 + 7)"
   ]
  },
  {
   "cell_type": "code",
   "execution_count": 3,
   "metadata": {
    "tags": []
   },
   "outputs": [
    {
     "output_type": "stream",
     "name": "stdout",
     "text": "18\n"
    }
   ],
   "source": [
    "print(rangeSum([1,2,3,4],4,1,5))"
   ]
  },
  {
   "cell_type": "code",
   "execution_count": null,
   "metadata": {},
   "outputs": [],
   "source": []
  }
 ]
}