{
 "metadata": {
  "language_info": {
   "codemirror_mode": {
    "name": "ipython",
    "version": 3
   },
   "file_extension": ".py",
   "mimetype": "text/x-python",
   "name": "python",
   "nbconvert_exporter": "python",
   "pygments_lexer": "ipython3",
   "version": "3.8.1-final"
  },
  "orig_nbformat": 2,
  "kernelspec": {
   "name": "python38164bited0cfbe7c3504f05a4d155e3328c3124",
   "display_name": "Python 3.8.1 64-bit"
  }
 },
 "nbformat": 4,
 "nbformat_minor": 2,
 "cells": [
  {
   "cell_type": "markdown",
   "metadata": {},
   "source": [
    "# Range Sum of BST\n",
    "\n",
    "Given the root node of a binary search tree, return the sum of values of all nodes with value between L and R (inclusive).\n",
    "\n",
    "The binary search tree is guaranteed to have unique values."
   ]
  },
  {
   "cell_type": "markdown",
   "metadata": {},
   "source": [
    "## 解析\n",
    "\n",
    "题目来源:[LeetCode - Range Sum of BST - 938](https://leetcode.com/problems/range-sum-of-bst/)\n",
    "\n",
    "题目很简单，只需要遍历所有节点即可，前中后层序都可以"
   ]
  },
  {
   "cell_type": "code",
   "execution_count": null,
   "metadata": {},
   "outputs": [],
   "source": [
    "class TreeNode:\n",
    "    def __init__(self, val=0, left=None, right=None):\n",
    "        self.val = val\n",
    "        self.left = left\n",
    "        self.right = right"
   ]
  },
  {
   "cell_type": "code",
   "execution_count": null,
   "metadata": {},
   "outputs": [],
   "source": [
    "def createtree(l):\n",
    "    if l[0]:\n",
    "        root=TreeNode(l[0])\n",
    "        nodes=[root]\n",
    "        id=1\n",
    "        while nodes and id<len(l):\n",
    "            node=nodes[0]\n",
    "            node.left=TreeNode(l[id]) if l[id] else None\n",
    "            nodes.append(node.left)\n",
    "            node.right=TreeNode(l[id+1]) if id<len(l)-1 and l[id+1] else None\n",
    "            nodes.append(node.right)\n",
    "            id+=2\n",
    "            nodes.pop(0)\n",
    "        return root\n",
    "    else:\n",
    "        return None"
   ]
  },
  {
   "cell_type": "code",
   "execution_count": null,
   "metadata": {},
   "outputs": [],
   "source": [
    "def rangeSumBST(root, L, R):\n",
    "    result = 0\n",
    "    def preOrder(node): \n",
    "        nonlocal result\n",
    "        if not node: \n",
    "            return  \n",
    "        if (node.val >= L and node.val <= R):\n",
    "            result +=  node.val\n",
    "        preOrder(node.left) \n",
    "        preOrder(node.right) \n",
    "        \n",
    "    preOrder(root)\n",
    "    return result"
   ]
  },
  {
   "cell_type": "code",
   "execution_count": null,
   "metadata": {
    "tags": []
   },
   "outputs": [],
   "source": [
    "arr = [10,5,15,3,7,None,18]\n",
    "root = None\n",
    "root = createtree(arr)\n",
    "print(rangeSumBST(root,7,15))"
   ]
  }
 ]
}