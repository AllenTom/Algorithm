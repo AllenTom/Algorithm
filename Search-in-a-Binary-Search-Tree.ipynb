{
 "metadata": {
  "language_info": {
   "codemirror_mode": {
    "name": "ipython",
    "version": 3
   },
   "file_extension": ".py",
   "mimetype": "text/x-python",
   "name": "python",
   "nbconvert_exporter": "python",
   "pygments_lexer": "ipython3",
   "version": 3
  },
  "orig_nbformat": 2
 },
 "nbformat": 4,
 "nbformat_minor": 2,
 "cells": [
  {
   "cell_type": "markdown",
   "metadata": {},
   "source": [
    "# Search in a Binary Search Tree\n",
    "\n",
    "Given the root node of a binary search tree (BST) and a value. You need to find the node in the BST that the node's value equals the given value. Return the subtree rooted with that node. If such node doesn't exist, you should return NULL.\n"
   ]
  },
  {
   "cell_type": "markdown",
   "metadata": {},
   "source": [
    "## 解析\n",
    "\n",
    "题目来源:[LeetCode - Search in a Binary Search Tree - 700](https://leetcode.com/problems/search-in-a-binary-search-tree/)\n",
    "\n",
    "非常简单的一题，遍历后匹配即可"
   ]
  },
  {
   "cell_type": "code",
   "execution_count": null,
   "metadata": {},
   "outputs": [],
   "source": [
    "class TreeNode:\n",
    "    def __init__(self, val=0, left=None, right=None):\n",
    "        self.val = val\n",
    "        self.left = left\n",
    "        self.right = right\n",
    "\n",
    "def createtree(l):\n",
    "    if l[0]:\n",
    "        root=TreeNode(l[0])\n",
    "        nodes=[root]\n",
    "        id=1\n",
    "        while nodes and id<len(l):\n",
    "            node=nodes[0]\n",
    "            node.left=TreeNode(l[id]) if l[id] else None\n",
    "            nodes.append(node.left)\n",
    "            node.right=TreeNode(l[id+1]) if id<len(l)-1 and l[id+1] else None\n",
    "            nodes.append(node.right)\n",
    "            id+=2\n",
    "            nodes.pop(0)\n",
    "        return root\n",
    "    else:\n",
    "        return None\n",
    "\n",
    "arr = [4,2,7,1,3]\n",
    "root = createtree(arr)"
   ]
  },
  {
   "cell_type": "code",
   "execution_count": null,
   "metadata": {},
   "outputs": [],
   "source": [
    "def searchBST(root, val):\n",
    "    target = None\n",
    "    def preOrder(node):\n",
    "        nonlocal target\n",
    "        if node is None or target is not None:\n",
    "            return \n",
    "        print(node.val)\n",
    "        if node.val == val:\n",
    "            target  = node\n",
    "        preOrder(node.left)\n",
    "        preOrder(node.right)\n",
    "    preOrder(root)\n",
    "    return target"
   ]
  },
  {
   "cell_type": "code",
   "execution_count": null,
   "metadata": {},
   "outputs": [],
   "source": [
    "print(searchBST(arr))"
   ]
  }
 ]
}